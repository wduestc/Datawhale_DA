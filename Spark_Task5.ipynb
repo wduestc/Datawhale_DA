{
 "cells": [
  {
   "cell_type": "code",
   "execution_count": 1,
   "metadata": {
    "collapsed": true
   },
   "outputs": [],
   "source": [
    "from pyspark.sql import SparkSession"
   ]
  },
  {
   "cell_type": "code",
   "execution_count": 2,
   "metadata": {
    "collapsed": true
   },
   "outputs": [],
   "source": [
    "from pyspark.sql import Row, functions\n",
    "from pyspark.ml.linalg import Vector, Vectors\n",
    "from pyspark.ml.evaluation import MulticlassClassificationEvaluator\n",
    "from pyspark.ml import Pipeline\n",
    "from pyspark.ml.feature import IndexToString, StringIndexer, VectorIndexer, HashingTF, Tokenizer\n",
    "from pyspark.ml.classification import LogisticRegression, LogisticRegressionModel,BinaryLogisticRegressionSummary, \\\n",
    "LogisticRegression"
   ]
  },
  {
   "cell_type": "code",
   "execution_count": 3,
   "metadata": {},
   "outputs": [
    {
     "name": "stdout",
     "output_type": "stream",
     "text": [
      "+-----------------+-----------+\n",
      "|         features|      label|\n",
      "+-----------------+-----------+\n",
      "|[5.1,3.5,1.4,0.2]|Iris-setosa|\n",
      "|[4.9,3.0,1.4,0.2]|Iris-setosa|\n",
      "|[4.7,3.2,1.3,0.2]|Iris-setosa|\n",
      "|[4.6,3.1,1.5,0.2]|Iris-setosa|\n",
      "|[5.0,3.6,1.4,0.2]|Iris-setosa|\n",
      "|[5.4,3.9,1.7,0.4]|Iris-setosa|\n",
      "|[4.6,3.4,1.4,0.3]|Iris-setosa|\n",
      "|[5.0,3.4,1.5,0.2]|Iris-setosa|\n",
      "|[4.4,2.9,1.4,0.2]|Iris-setosa|\n",
      "|[4.9,3.1,1.5,0.1]|Iris-setosa|\n",
      "|[5.4,3.7,1.5,0.2]|Iris-setosa|\n",
      "|[4.8,3.4,1.6,0.2]|Iris-setosa|\n",
      "|[4.8,3.0,1.4,0.1]|Iris-setosa|\n",
      "|[4.3,3.0,1.1,0.1]|Iris-setosa|\n",
      "|[5.8,4.0,1.2,0.2]|Iris-setosa|\n",
      "|[5.7,4.4,1.5,0.4]|Iris-setosa|\n",
      "|[5.4,3.9,1.3,0.4]|Iris-setosa|\n",
      "|[5.1,3.5,1.4,0.3]|Iris-setosa|\n",
      "|[5.7,3.8,1.7,0.3]|Iris-setosa|\n",
      "|[5.1,3.8,1.5,0.3]|Iris-setosa|\n",
      "+-----------------+-----------+\n",
      "only showing top 20 rows\n",
      "\n"
     ]
    }
   ],
   "source": [
    "def f(x):\n",
    "    rel = {}\n",
    "    rel['features'] = Vectors.dense(float(x[0]), float(x[1]), float(x[2]), float(x[3]))\n",
    "    rel['label'] = str(x[4])\n",
    "    return rel\n",
    "\n",
    "spark = SparkSession.builder.master(\"local\").appName(\"Logistic\").getOrCreate()\n",
    "data = spark.sparkContext.textFile(\"iris.txt\").map(lambda line:line.split(',')).map(lambda p:Row(**f(p))).toDF()\n",
    "data.show()"
   ]
  },
  {
   "cell_type": "code",
   "execution_count": 15,
   "metadata": {},
   "outputs": [
    {
     "name": "stdout",
     "output_type": "stream",
     "text": [
      "Iris-versicolor:[7.0,3.2,4.7,1.4]\n",
      "Iris-versicolor:[6.4,3.2,4.5,1.5]\n",
      "Iris-versicolor:[6.9,3.1,4.9,1.5]\n",
      "Iris-versicolor:[5.5,2.3,4.0,1.3]\n",
      "Iris-versicolor:[6.5,2.8,4.6,1.5]\n",
      "Iris-versicolor:[5.7,2.8,4.5,1.3]\n",
      "Iris-versicolor:[6.3,3.3,4.7,1.6]\n",
      "Iris-versicolor:[4.9,2.4,3.3,1.0]\n",
      "Iris-versicolor:[6.6,2.9,4.6,1.3]\n",
      "Iris-versicolor:[5.2,2.7,3.9,1.4]\n",
      "Iris-versicolor:[5.0,2.0,3.5,1.0]\n",
      "Iris-versicolor:[5.9,3.0,4.2,1.5]\n",
      "Iris-versicolor:[6.0,2.2,4.0,1.0]\n",
      "Iris-versicolor:[6.1,2.9,4.7,1.4]\n",
      "Iris-versicolor:[5.6,2.9,3.6,1.3]\n",
      "Iris-versicolor:[6.7,3.1,4.4,1.4]\n",
      "Iris-versicolor:[5.6,3.0,4.5,1.5]\n",
      "Iris-versicolor:[5.8,2.7,4.1,1.0]\n",
      "Iris-versicolor:[6.2,2.2,4.5,1.5]\n",
      "Iris-versicolor:[5.6,2.5,3.9,1.1]\n",
      "Iris-versicolor:[5.9,3.2,4.8,1.8]\n",
      "Iris-versicolor:[6.1,2.8,4.0,1.3]\n",
      "Iris-versicolor:[6.3,2.5,4.9,1.5]\n",
      "Iris-versicolor:[6.1,2.8,4.7,1.2]\n",
      "Iris-versicolor:[6.4,2.9,4.3,1.3]\n",
      "Iris-versicolor:[6.6,3.0,4.4,1.4]\n",
      "Iris-versicolor:[6.8,2.8,4.8,1.4]\n",
      "Iris-versicolor:[6.7,3.0,5.0,1.7]\n",
      "Iris-versicolor:[6.0,2.9,4.5,1.5]\n",
      "Iris-versicolor:[5.7,2.6,3.5,1.0]\n",
      "Iris-versicolor:[5.5,2.4,3.8,1.1]\n",
      "Iris-versicolor:[5.5,2.4,3.7,1.0]\n",
      "Iris-versicolor:[5.8,2.7,3.9,1.2]\n",
      "Iris-versicolor:[6.0,2.7,5.1,1.6]\n",
      "Iris-versicolor:[5.4,3.0,4.5,1.5]\n",
      "Iris-versicolor:[6.0,3.4,4.5,1.6]\n",
      "Iris-versicolor:[6.7,3.1,4.7,1.5]\n",
      "Iris-versicolor:[6.3,2.3,4.4,1.3]\n",
      "Iris-versicolor:[5.6,3.0,4.1,1.3]\n",
      "Iris-versicolor:[5.5,2.5,4.0,1.3]\n",
      "Iris-versicolor:[5.5,2.6,4.4,1.2]\n",
      "Iris-versicolor:[6.1,3.0,4.6,1.4]\n",
      "Iris-versicolor:[5.8,2.6,4.0,1.2]\n",
      "Iris-versicolor:[5.0,2.3,3.3,1.0]\n",
      "Iris-versicolor:[5.6,2.7,4.2,1.3]\n",
      "Iris-versicolor:[5.7,3.0,4.2,1.2]\n",
      "Iris-versicolor:[5.7,2.9,4.2,1.3]\n",
      "Iris-versicolor:[6.2,2.9,4.3,1.3]\n",
      "Iris-versicolor:[5.1,2.5,3.0,1.1]\n",
      "Iris-versicolor:[5.7,2.8,4.1,1.3]\n",
      "Iris-virginica:[6.3,3.3,6.0,2.5]\n",
      "Iris-virginica:[5.8,2.7,5.1,1.9]\n",
      "Iris-virginica:[7.1,3.0,5.9,2.1]\n",
      "Iris-virginica:[6.3,2.9,5.6,1.8]\n",
      "Iris-virginica:[6.5,3.0,5.8,2.2]\n",
      "Iris-virginica:[7.6,3.0,6.6,2.1]\n",
      "Iris-virginica:[4.9,2.5,4.5,1.7]\n",
      "Iris-virginica:[7.3,2.9,6.3,1.8]\n",
      "Iris-virginica:[6.7,2.5,5.8,1.8]\n",
      "Iris-virginica:[7.2,3.6,6.1,2.5]\n",
      "Iris-virginica:[6.5,3.2,5.1,2.0]\n",
      "Iris-virginica:[6.4,2.7,5.3,1.9]\n",
      "Iris-virginica:[6.8,3.0,5.5,2.1]\n",
      "Iris-virginica:[5.7,2.5,5.0,2.0]\n",
      "Iris-virginica:[5.8,2.8,5.1,2.4]\n",
      "Iris-virginica:[6.4,3.2,5.3,2.3]\n",
      "Iris-virginica:[6.5,3.0,5.5,1.8]\n",
      "Iris-virginica:[7.7,3.8,6.7,2.2]\n",
      "Iris-virginica:[7.7,2.6,6.9,2.3]\n",
      "Iris-virginica:[6.0,2.2,5.0,1.5]\n",
      "Iris-virginica:[6.9,3.2,5.7,2.3]\n",
      "Iris-virginica:[5.6,2.8,4.9,2.0]\n",
      "Iris-virginica:[7.7,2.8,6.7,2.0]\n",
      "Iris-virginica:[6.3,2.7,4.9,1.8]\n",
      "Iris-virginica:[6.7,3.3,5.7,2.1]\n",
      "Iris-virginica:[7.2,3.2,6.0,1.8]\n",
      "Iris-virginica:[6.2,2.8,4.8,1.8]\n",
      "Iris-virginica:[6.1,3.0,4.9,1.8]\n",
      "Iris-virginica:[6.4,2.8,5.6,2.1]\n",
      "Iris-virginica:[7.2,3.0,5.8,1.6]\n",
      "Iris-virginica:[7.4,2.8,6.1,1.9]\n",
      "Iris-virginica:[7.9,3.8,6.4,2.0]\n",
      "Iris-virginica:[6.4,2.8,5.6,2.2]\n",
      "Iris-virginica:[6.3,2.8,5.1,1.5]\n",
      "Iris-virginica:[6.1,2.6,5.6,1.4]\n",
      "Iris-virginica:[7.7,3.0,6.1,2.3]\n",
      "Iris-virginica:[6.3,3.4,5.6,2.4]\n",
      "Iris-virginica:[6.4,3.1,5.5,1.8]\n",
      "Iris-virginica:[6.0,3.0,4.8,1.8]\n",
      "Iris-virginica:[6.9,3.1,5.4,2.1]\n",
      "Iris-virginica:[6.7,3.1,5.6,2.4]\n",
      "Iris-virginica:[6.9,3.1,5.1,2.3]\n",
      "Iris-virginica:[5.8,2.7,5.1,1.9]\n",
      "Iris-virginica:[6.8,3.2,5.9,2.3]\n",
      "Iris-virginica:[6.7,3.3,5.7,2.5]\n",
      "Iris-virginica:[6.7,3.0,5.2,2.3]\n",
      "Iris-virginica:[6.3,2.5,5.0,1.9]\n",
      "Iris-virginica:[6.5,3.0,5.2,2.0]\n",
      "Iris-virginica:[6.2,3.4,5.4,2.3]\n",
      "Iris-virginica:[5.9,3.0,5.1,1.8]\n"
     ]
    }
   ],
   "source": [
    "# 注册成sql语句\n",
    "data.createOrReplaceTempView(\"iris\")\n",
    "df = spark.sql(\"select * from iris where label != 'Iris-setosa'\")\n",
    "rel = df.rdd.map(lambda t: str(t[1]) + \":\" + str(t[0])).collect()\n",
    "for item in rel:\n",
    "    print (item)\n",
    "# 显示\n",
    "#df.show().head()\n",
    "#rel = df.map(lambda t:str(t[1]) + \":\" + str(t[0])).collect()\n",
    "#for item in rel:\n",
    "#    print (item)"
   ]
  },
  {
   "cell_type": "code",
   "execution_count": 16,
   "metadata": {
    "collapsed": true
   },
   "outputs": [],
   "source": [
    "# 构建ML的pipeline\n",
    "labelIndexer = StringIndexer().setInputCol(\"label\").setOutputCol(\"indexedLabel\").fit(df)\n",
    "featureIndexer = VectorIndexer().setInputCol(\"features\").setOutputCol(\"indexedFeatures\").fit(df)"
   ]
  },
  {
   "cell_type": "code",
   "execution_count": 17,
   "metadata": {
    "collapsed": true
   },
   "outputs": [],
   "source": [
    "# 随机分成7:3\n",
    "trainingData, testData = df.randomSplit([0.7, 0.3])"
   ]
  },
  {
   "cell_type": "code",
   "execution_count": 18,
   "metadata": {},
   "outputs": [
    {
     "name": "stdout",
     "output_type": "stream",
     "text": [
      "LogisticRegression parameters:\n",
      "aggregationDepth: suggested depth for treeAggregate (>= 2). (default: 2)\n",
      "elasticNetParam: the ElasticNet mixing parameter, in range [0, 1]. For alpha = 0, the penalty is an L2 penalty. For alpha = 1, it is an L1 penalty. (default: 0.0, current: 0.8)\n",
      "family: The name of family which is a description of the label distribution to be used in the model. Supported options: auto, binomial, multinomial (default: auto)\n",
      "featuresCol: features column name. (default: features, current: indexedFeatures)\n",
      "fitIntercept: whether to fit an intercept term. (default: True)\n",
      "labelCol: label column name. (default: label, current: indexedLabel)\n",
      "lowerBoundsOnCoefficients: The lower bounds on coefficients if fitting under bound constrained optimization. The bound matrix must be compatible with the shape (1, number of features) for binomial regression, or (number of classes, number of features) for multinomial regression. (undefined)\n",
      "lowerBoundsOnIntercepts: The lower bounds on intercepts if fitting under bound constrained optimization. The bounds vector size must beequal with 1 for binomial regression, or the number oflasses for multinomial regression. (undefined)\n",
      "maxIter: max number of iterations (>= 0). (default: 100, current: 10)\n",
      "predictionCol: prediction column name. (default: prediction)\n",
      "probabilityCol: Column name for predicted class conditional probabilities. Note: Not all models output well-calibrated probability estimates! These probabilities should be treated as confidences, not precise probabilities. (default: probability)\n",
      "rawPredictionCol: raw prediction (a.k.a. confidence) column name. (default: rawPrediction)\n",
      "regParam: regularization parameter (>= 0). (default: 0.0, current: 0.3)\n",
      "standardization: whether to standardize the training features before fitting the model. (default: True)\n",
      "threshold: Threshold in binary classification prediction, in range [0, 1]. If threshold and thresholds are both set, they must match.e.g. if threshold is p, then thresholds must be equal to [1-p, p]. (default: 0.5)\n",
      "thresholds: Thresholds in multi-class classification to adjust the probability of predicting each class. Array must have length equal to the number of classes, with values > 0, excepting that at most one value may be 0. The class with largest value p/t is predicted, where p is the original probability of that class and t is the class's threshold. (undefined)\n",
      "tol: the convergence tolerance for iterative algorithms (>= 0). (default: 1e-06)\n",
      "upperBoundsOnCoefficients: The upper bounds on coefficients if fitting under bound constrained optimization. The bound matrix must be compatible with the shape (1, number of features) for binomial regression, or (number of classes, number of features) for multinomial regression. (undefined)\n",
      "upperBoundsOnIntercepts: The upper bounds on intercepts if fitting under bound constrained optimization. The bound vector size must be equal with 1 for binomial regression, or the number of classes for multinomial regression. (undefined)\n",
      "weightCol: weight column name. If this is not set or empty, we treat all instance weights as 1.0. (undefined)\n"
     ]
    }
   ],
   "source": [
    "lr = LogisticRegression().setLabelCol(\"indexedLabel\").setFeaturesCol(\"indexedFeatures\").setMaxIter(10).setRegParam(0.3).setElasticNetParam(0.8)\n",
    "print (\"LogisticRegression parameters:\\n\" + lr.explainParams())"
   ]
  },
  {
   "cell_type": "code",
   "execution_count": 19,
   "metadata": {
    "collapsed": true
   },
   "outputs": [],
   "source": [
    "labelConverter = IndexToString().setInputCol(\"prediction\").setOutputCol(\"predictedLabel\").setLabels(labelIndexer.labels)"
   ]
  },
  {
   "cell_type": "code",
   "execution_count": 20,
   "metadata": {
    "collapsed": true
   },
   "outputs": [],
   "source": [
    "lrPipeline = Pipeline().setStages([labelIndexer, featureIndexer, lr, labelConverter])\n",
    "lrPipelineModel = lrPipeline.fit(trainingData)"
   ]
  },
  {
   "cell_type": "code",
   "execution_count": 21,
   "metadata": {
    "collapsed": true
   },
   "outputs": [],
   "source": [
    "lrPredictions = lrPipelineModel.transform(testData)"
   ]
  },
  {
   "cell_type": "code",
   "execution_count": 22,
   "metadata": {},
   "outputs": [
    {
     "name": "stdout",
     "output_type": "stream",
     "text": [
      "Iris-versicolor,[5.0,2.0,3.5,1.0]-->prob=[0.5350723044156922,0.46492769558430785],predictedLabelIris-versicolor\n",
      "Iris-versicolor,[5.2,2.7,3.9,1.4]-->prob=[0.464314176578193,0.535685823421807],predictedLabelIris-virginica\n",
      "Iris-versicolor,[5.5,2.4,3.8,1.1]-->prob=[0.5218548036093305,0.4781451963906695],predictedLabelIris-versicolor\n",
      "Iris-versicolor,[5.5,2.6,4.4,1.2]-->prob=[0.5036542015649411,0.4963457984350589],predictedLabelIris-versicolor\n",
      "Iris-versicolor,[5.6,2.7,4.2,1.3]-->prob=[0.48643376851475223,0.5135662314852477],predictedLabelIris-virginica\n",
      "Iris-virginica,[5.6,2.8,4.9,2.0]-->prob=[0.3625569354879262,0.6374430645120738],predictedLabelIris-virginica\n",
      "Iris-versicolor,[5.6,3.0,4.5,1.5]-->prob=[0.45016748376609933,0.5498325162339006],predictedLabelIris-virginica\n",
      "Iris-virginica,[5.8,2.7,5.1,1.9]-->prob=[0.38142589496304513,0.6185741050369549],predictedLabelIris-virginica\n",
      "Iris-versicolor,[6.0,2.2,4.0,1.0]-->prob=[0.5449150196200674,0.45508498037993267],predictedLabelIris-versicolor\n",
      "Iris-versicolor,[6.0,3.4,4.5,1.6]-->prob=[0.436100918393106,0.563899081606894],predictedLabelIris-virginica\n",
      "Iris-virginica,[6.1,2.6,5.6,1.4]-->prob=[0.4731949033035592,0.5268050966964408],predictedLabelIris-virginica\n",
      "Iris-versicolor,[6.1,2.8,4.0,1.3]-->prob=[0.49138450303681225,0.5086154969631878],predictedLabelIris-virginica\n",
      "Iris-versicolor,[6.1,2.8,4.7,1.2]-->prob=[0.5095969424781077,0.4904030575218922],predictedLabelIris-versicolor\n",
      "Iris-versicolor,[6.3,2.3,4.4,1.3]-->prob=[0.49336532453764326,0.5066346754623567],predictedLabelIris-virginica\n",
      "Iris-virginica,[6.3,2.9,5.6,1.8]-->prob=[0.40351758798556553,0.5964824120144344],predictedLabelIris-virginica\n",
      "Iris-versicolor,[6.3,3.3,4.7,1.6]-->prob=[0.4390264949464587,0.5609735050535413],predictedLabelIris-virginica\n",
      "Iris-virginica,[6.3,3.4,5.6,2.4]-->prob=[0.3040729957938829,0.6959270042061171],predictedLabelIris-virginica\n",
      "Iris-virginica,[6.4,2.7,5.3,1.9]-->prob=[0.38705106474459555,0.6129489352554044],predictedLabelIris-virginica\n",
      "Iris-versicolor,[6.4,2.9,4.3,1.3]-->prob=[0.4943558172927279,0.5056441827072721],predictedLabelIris-virginica\n",
      "Iris-virginica,[6.4,3.1,5.5,1.8]-->prob=[0.4044717069624399,0.5955282930375603],predictedLabelIris-virginica\n",
      "Iris-versicolor,[6.5,2.8,4.6,1.5]-->prob=[0.4590094809173772,0.5409905190826229],predictedLabelIris-virginica\n",
      "Iris-virginica,[6.5,3.0,5.2,2.0]-->prob=[0.3708387364294106,0.6291612635705893],predictedLabelIris-virginica\n",
      "Iris-virginica,[6.5,3.0,5.5,1.8]-->prob=[0.405426548551576,0.594573451448424],predictedLabelIris-virginica\n",
      "Iris-virginica,[6.5,3.0,5.8,2.2]-->prob=[0.33752660144124874,0.6624733985587513],predictedLabelIris-virginica\n",
      "Iris-virginica,[6.7,2.5,5.8,1.8]-->prob=[0.4073383728106138,0.5926616271893862],predictedLabelIris-virginica\n",
      "Iris-versicolor,[6.7,3.1,4.4,1.4]-->prob=[0.4791251750121904,0.5208748249878097],predictedLabelIris-virginica\n",
      "Iris-versicolor,[6.7,3.1,4.7,1.5]-->prob=[0.4609780790024243,0.5390219209975757],predictedLabelIris-virginica\n",
      "Iris-virginica,[6.7,3.3,5.7,2.1]-->prob=[0.3558200346537526,0.6441799653462473],predictedLabelIris-virginica\n",
      "Iris-versicolor,[6.8,2.8,4.8,1.4]-->prob=[0.48011417124186123,0.5198858287581387],predictedLabelIris-virginica\n",
      "Iris-versicolor,[6.9,3.1,4.9,1.5]-->prob=[0.46294789505208245,0.5370521049479176],predictedLabelIris-virginica\n",
      "Iris-virginica,[6.9,3.2,5.7,2.3]-->prob=[0.32489993476367135,0.6751000652363287],predictedLabelIris-virginica\n",
      "Iris-virginica,[7.7,2.6,6.9,2.3]-->prob=[0.33189135641676354,0.6681086435832365],predictedLabelIris-virginica\n"
     ]
    }
   ],
   "source": [
    "preRel = lrPredictions.select(\"predictedLabel\", \"label\", \"features\", \"probability\").collect()\n",
    "for item in preRel:\n",
    "    print(str(item['label'])+','+str(item['features'])+'-->prob='+str(item['probability'])+',predictedLabel'+str(item['predictedLabel']))"
   ]
  },
  {
   "cell_type": "markdown",
   "metadata": {},
   "source": [
    "####  4.模型评估"
   ]
  },
  {
   "cell_type": "code",
   "execution_count": 23,
   "metadata": {},
   "outputs": [
    {
     "name": "stdout",
     "output_type": "stream",
     "text": [
      "Test Error = 0.4566542948038176\n"
     ]
    }
   ],
   "source": [
    "evaluator = MulticlassClassificationEvaluator().setLabelCol(\"indexedLabel\").setPredictionCol(\"prediction\")\n",
    "lrAccuracy = evaluator.evaluate(lrPredictions)\n",
    "print(\"Test Error = \" + str(1.0 - lrAccuracy))"
   ]
  },
  {
   "cell_type": "code",
   "execution_count": 24,
   "metadata": {},
   "outputs": [
    {
     "name": "stdout",
     "output_type": "stream",
     "text": [
      "Coefficients: [-0.03962569755041504,0.0,0.0,0.07285788417034716]Intercept: 0.057608501677179784numClasses: 2numFeatures: 4\n"
     ]
    }
   ],
   "source": [
    "lrModel = lrPipelineModel.stages[2]\n",
    "print (\"Coefficients: \" + str(lrModel.coefficients) + \"Intercept: \" + str(lrModel.intercept) + \"numClasses: \" + str(lrModel.numClasses) + \"numFeatures: \" + str(lrModel.numFeatures))"
   ]
  },
  {
   "cell_type": "code",
   "execution_count": 25,
   "metadata": {},
   "outputs": [
    {
     "name": "stdout",
     "output_type": "stream",
     "text": [
      "0.6914160776171184\n",
      "0.6889940543074073\n",
      "0.686210648150745\n",
      "0.6761120900424713\n",
      "0.6736214030819339\n",
      "0.673397203036357\n",
      "0.6722844426271781\n",
      "0.6719542976141935\n",
      "0.6716802162637169\n",
      "0.6714720930987288\n",
      "0.6702863815764213\n"
     ]
    }
   ],
   "source": [
    "trainingSummary = lrModel.summary\n",
    "objectiveHistory = trainingSummary.objectiveHistory\n",
    "for item in objectiveHistory:\n",
    "    print (item)"
   ]
  },
  {
   "cell_type": "code",
   "execution_count": 26,
   "metadata": {},
   "outputs": [
    {
     "name": "stdout",
     "output_type": "stream",
     "text": [
      "0.9796006944444444\n"
     ]
    }
   ],
   "source": [
    "print (trainingSummary.areaUnderROCUnderROC)"
   ]
  },
  {
   "cell_type": "code",
   "execution_count": 29,
   "metadata": {},
   "outputs": [
    {
     "data": {
      "text/plain": [
       "LogisticRegression_6e63f982ee86"
      ]
     },
     "execution_count": 29,
     "metadata": {},
     "output_type": "execute_result"
    }
   ],
   "source": [
    "fMeasure = trainingSummary.fMeasureByThreshold\n",
    "maxFMeasure = fMeasure.select(functions.max(\"F-Measure\")).head()[0]\n",
    "bestThreshold = fMeasure.where(fMeasure[\"F-Measure\"] == maxFMeasure).select(\"threshold\").head()[0]\n",
    "lr.setThreshold(bestThreshold)"
   ]
  },
  {
   "cell_type": "code",
   "execution_count": 31,
   "metadata": {},
   "outputs": [
    {
     "name": "stdout",
     "output_type": "stream",
     "text": [
      "(Iris-versicolor,[5.0,2.0,3.5,1.0])-->prob=[0.5527875036384094,0.44721249636159055],predictLabel=Iris-versicolor\n",
      "(Iris-versicolor,[5.2,2.7,3.9,1.4])-->prob=[0.467473958789406,0.532526041210594],predictLabel=Iris-virginica\n",
      "(Iris-versicolor,[5.5,2.4,3.8,1.1])-->prob=[0.5371764674125327,0.46282353258746733],predictLabel=Iris-versicolor\n",
      "(Iris-versicolor,[5.5,2.6,4.4,1.2])-->prob=[0.5152235273744041,0.48477647262559587],predictLabel=Iris-versicolor\n",
      "(Iris-versicolor,[5.6,2.7,4.2,1.3])-->prob=[0.49446693501344907,0.5055330649865509],predictLabel=Iris-virginica\n",
      "(Iris-virginica,[5.6,2.8,4.9,2.0])-->prob=[0.3455611996383086,0.6544388003616914],predictLabel=Iris-virginica\n",
      "(Iris-versicolor,[5.6,3.0,4.5,1.5])-->prob=[0.4505945103519814,0.5494054896480186],predictLabel=Iris-virginica\n",
      "(Iris-virginica,[5.8,2.7,5.1,1.9])-->prob=[0.3680720032644509,0.6319279967355491],predictLabel=Iris-virginica\n",
      "(Iris-versicolor,[6.0,2.2,4.0,1.0])-->prob=[0.5651666001732658,0.4348333998267341],predictLabel=Iris-versicolor\n",
      "(Iris-versicolor,[6.0,3.4,4.5,1.6])-->prob=[0.43382802242970786,0.5661719775702923],predictLabel=Iris-virginica\n",
      "(Iris-virginica,[6.1,2.6,5.6,1.4])-->prob=[0.47873978921804605,0.5212602107819538],predictLabel=Iris-virginica\n",
      "(Iris-versicolor,[6.1,2.8,4.0,1.3])-->prob=[0.5007439316908139,0.4992560683091861],predictLabel=Iris-versicolor\n",
      "(Iris-versicolor,[6.1,2.8,4.7,1.2])-->prob=[0.5227451929461445,0.4772548070538553],predictLabel=Iris-versicolor\n",
      "(Iris-versicolor,[6.3,2.3,4.4,1.3])-->prob=[0.5032547755061935,0.49674522449380654],predictLabel=Iris-versicolor\n",
      "(Iris-virginica,[6.3,2.9,5.6,1.8])-->prob=[0.39476644643312503,0.6052335535668749],predictLabel=Iris-virginica\n",
      "(Iris-versicolor,[6.3,3.3,4.7,1.6])-->prob=[0.43753201170721095,0.5624679882927891],predictLabel=Iris-virginica\n",
      "(Iris-virginica,[6.3,3.4,5.6,2.4])-->prob=[0.2777344597301071,0.722265540269893],predictLabel=Iris-virginica\n",
      "(Iris-virginica,[6.4,2.7,5.3,1.9])-->prob=[0.37510768187394306,0.6248923181260571],predictLabel=Iris-virginica\n",
      "(Iris-versicolor,[6.4,2.9,4.3,1.3])-->prob=[0.5045101437710295,0.4954898562289705],predictLabel=Iris-versicolor\n",
      "(Iris-virginica,[6.4,3.1,5.5,1.8])-->prob=[0.39596691124664046,0.6040330887533596],predictLabel=Iris-virginica\n",
      "(Iris-versicolor,[6.5,2.8,4.6,1.5])-->prob=[0.46180631964242985,0.5381936803575701],predictLabel=Iris-virginica\n",
      "(Iris-virginica,[6.5,3.0,5.2,2.0])-->prob=[0.3558522960725464,0.6441477039274536],predictLabel=Iris-virginica\n",
      "(Iris-virginica,[6.5,3.0,5.5,1.8])-->prob=[0.39716863103352507,0.6028313689664749],predictLabel=Iris-virginica\n",
      "(Iris-virginica,[6.5,3.0,5.8,2.2])-->prob=[0.31657687700005327,0.6834231229999467],predictLabel=Iris-virginica\n",
      "(Iris-virginica,[6.7,2.5,5.8,1.8])-->prob=[0.3995757826395541,0.6004242173604458],predictLabel=Iris-virginica\n",
      "(Iris-versicolor,[6.7,3.1,4.4,1.4])-->prob=[0.4862630881229683,0.5137369118770319],predictLabel=Iris-virginica\n",
      "(Iris-versicolor,[6.7,3.1,4.7,1.5])-->prob=[0.46430349469761767,0.5356965053023822],predictLabel=Iris-virginica\n",
      "(Iris-virginica,[6.7,3.3,5.7,2.1])-->prob=[0.3381752301310539,0.6618247698689461],predictLabel=Iris-virginica\n",
      "(Iris-versicolor,[6.8,2.8,4.8,1.4])-->prob=[0.4875176690289534,0.5124823309710466],predictLabel=Iris-virginica\n",
      "(Iris-versicolor,[6.9,3.1,4.9,1.5])-->prob=[0.4668024609537537,0.5331975390462462],predictLabel=Iris-virginica\n",
      "(Iris-virginica,[6.9,3.2,5.7,2.3])-->prob=[0.3020554961460047,0.6979445038539954],predictLabel=Iris-virginica\n",
      "(Iris-virginica,[7.7,2.6,6.9,2.3])-->prob=[0.31059167939358534,0.6894083206064147],predictLabel=Iris-virginica\n"
     ]
    }
   ],
   "source": [
    "mlr =  LogisticRegression().setLabelCol(\"indexedLabel\").setFeaturesCol(\"indexedFeatures\").setMaxIter(10).setRegParam(0.3).setElasticNetParam(0.8).setFamily(\"multinomial\")\n",
    "mlrPipeline = Pipeline().setStages([labelIndexer, featureIndexer, mlr, labelConverter])\n",
    "mlrPipelineModel = mlrPipeline.fit(trainingData) \n",
    "mlrPredictions = mlrPipelineModel.transform(testData)\n",
    "mlrPreRel = mlrPredictions.select(\"predictedLabel\", \"label\", \"features\", \"probability\").collect()\n",
    "for item in mlrPreRel:\n",
    "    print('('+str(item['label'])+','+str(item['features'])+')-->prob='+str(item['probability'])+',predictLabel='+str(item['predictedLabel']))"
   ]
  },
  {
   "cell_type": "code",
   "execution_count": 33,
   "metadata": {},
   "outputs": [
    {
     "name": "stdout",
     "output_type": "stream",
     "text": [
      "Test Error = 0.33147773279352233\n",
      "Multinomial coefficients: DenseMatrix([[ 0.02510889,  0.        ,  0.        , -0.04403394],\n",
      "             [-0.02510889,  0.        ,  0.        ,  0.04403394]])Multinomial intercepts: [-0.019574561219578925,0.019574561219578925]numClasses: 2numFeatures: 4\n"
     ]
    }
   ],
   "source": [
    "mlrAccuracy = evaluator.evaluate(mlrPredictions)\n",
    "print (\"Test Error = \" + str(1.0 - mlrAccuracy))\n",
    " \n",
    "mlrModel = mlrPipelineModel.stages[2]\n",
    " \n",
    "print(\"Multinomial coefficients: \" +str(mlrModel.coefficientMatrix)+\"Multinomial intercepts: \"+str(mlrModel.interceptVector)+\"numClasses: \"+str(mlrModel.numClasses)+\n",
    "\"numFeatures: \"+str(mlrModel.numFeatures))"
   ]
  },
  {
   "cell_type": "code",
   "execution_count": 34,
   "metadata": {},
   "outputs": [
    {
     "name": "stdout",
     "output_type": "stream",
     "text": [
      "(Iris-versicolor,[5.0,2.0,3.5,1.0])-->prob=[0.5527875036384094,0.44721249636159055],predictLabel=Iris-versicolor\n",
      "(Iris-versicolor,[5.2,2.7,3.9,1.4])-->prob=[0.467473958789406,0.532526041210594],predictLabel=Iris-virginica\n",
      "(Iris-versicolor,[5.5,2.4,3.8,1.1])-->prob=[0.5371764674125327,0.46282353258746733],predictLabel=Iris-versicolor\n",
      "(Iris-versicolor,[5.5,2.6,4.4,1.2])-->prob=[0.5152235273744041,0.48477647262559587],predictLabel=Iris-versicolor\n",
      "(Iris-versicolor,[5.6,2.7,4.2,1.3])-->prob=[0.49446693501344907,0.5055330649865509],predictLabel=Iris-virginica\n",
      "(Iris-virginica,[5.6,2.8,4.9,2.0])-->prob=[0.3455611996383086,0.6544388003616914],predictLabel=Iris-virginica\n",
      "(Iris-versicolor,[5.6,3.0,4.5,1.5])-->prob=[0.4505945103519814,0.5494054896480186],predictLabel=Iris-virginica\n",
      "(Iris-virginica,[5.8,2.7,5.1,1.9])-->prob=[0.3680720032644509,0.6319279967355491],predictLabel=Iris-virginica\n",
      "(Iris-versicolor,[6.0,2.2,4.0,1.0])-->prob=[0.5651666001732658,0.4348333998267341],predictLabel=Iris-versicolor\n",
      "(Iris-versicolor,[6.0,3.4,4.5,1.6])-->prob=[0.43382802242970786,0.5661719775702923],predictLabel=Iris-virginica\n",
      "(Iris-virginica,[6.1,2.6,5.6,1.4])-->prob=[0.47873978921804605,0.5212602107819538],predictLabel=Iris-virginica\n",
      "(Iris-versicolor,[6.1,2.8,4.0,1.3])-->prob=[0.5007439316908139,0.4992560683091861],predictLabel=Iris-versicolor\n",
      "(Iris-versicolor,[6.1,2.8,4.7,1.2])-->prob=[0.5227451929461445,0.4772548070538553],predictLabel=Iris-versicolor\n",
      "(Iris-versicolor,[6.3,2.3,4.4,1.3])-->prob=[0.5032547755061935,0.49674522449380654],predictLabel=Iris-versicolor\n",
      "(Iris-virginica,[6.3,2.9,5.6,1.8])-->prob=[0.39476644643312503,0.6052335535668749],predictLabel=Iris-virginica\n",
      "(Iris-versicolor,[6.3,3.3,4.7,1.6])-->prob=[0.43753201170721095,0.5624679882927891],predictLabel=Iris-virginica\n",
      "(Iris-virginica,[6.3,3.4,5.6,2.4])-->prob=[0.2777344597301071,0.722265540269893],predictLabel=Iris-virginica\n",
      "(Iris-virginica,[6.4,2.7,5.3,1.9])-->prob=[0.37510768187394306,0.6248923181260571],predictLabel=Iris-virginica\n",
      "(Iris-versicolor,[6.4,2.9,4.3,1.3])-->prob=[0.5045101437710295,0.4954898562289705],predictLabel=Iris-versicolor\n",
      "(Iris-virginica,[6.4,3.1,5.5,1.8])-->prob=[0.39596691124664046,0.6040330887533596],predictLabel=Iris-virginica\n",
      "(Iris-versicolor,[6.5,2.8,4.6,1.5])-->prob=[0.46180631964242985,0.5381936803575701],predictLabel=Iris-virginica\n",
      "(Iris-virginica,[6.5,3.0,5.2,2.0])-->prob=[0.3558522960725464,0.6441477039274536],predictLabel=Iris-virginica\n",
      "(Iris-virginica,[6.5,3.0,5.5,1.8])-->prob=[0.39716863103352507,0.6028313689664749],predictLabel=Iris-virginica\n",
      "(Iris-virginica,[6.5,3.0,5.8,2.2])-->prob=[0.31657687700005327,0.6834231229999467],predictLabel=Iris-virginica\n",
      "(Iris-virginica,[6.7,2.5,5.8,1.8])-->prob=[0.3995757826395541,0.6004242173604458],predictLabel=Iris-virginica\n",
      "(Iris-versicolor,[6.7,3.1,4.4,1.4])-->prob=[0.4862630881229683,0.5137369118770319],predictLabel=Iris-virginica\n",
      "(Iris-versicolor,[6.7,3.1,4.7,1.5])-->prob=[0.46430349469761767,0.5356965053023822],predictLabel=Iris-virginica\n",
      "(Iris-virginica,[6.7,3.3,5.7,2.1])-->prob=[0.3381752301310539,0.6618247698689461],predictLabel=Iris-virginica\n",
      "(Iris-versicolor,[6.8,2.8,4.8,1.4])-->prob=[0.4875176690289534,0.5124823309710466],predictLabel=Iris-virginica\n",
      "(Iris-versicolor,[6.9,3.1,4.9,1.5])-->prob=[0.4668024609537537,0.5331975390462462],predictLabel=Iris-virginica\n",
      "(Iris-virginica,[6.9,3.2,5.7,2.3])-->prob=[0.3020554961460047,0.6979445038539954],predictLabel=Iris-virginica\n",
      "(Iris-virginica,[7.7,2.6,6.9,2.3])-->prob=[0.31059167939358534,0.6894083206064147],predictLabel=Iris-virginica\n"
     ]
    }
   ],
   "source": [
    "mlrPreRel = mlrPredictions.select(\"predictedLabel\", \"label\", \"features\", \"probability\").collect()\n",
    "for item in mlrPreRel:\n",
    "    print('('+str(item['label'])+','+str(item['features'])+')-->prob='+str(item['probability'])+',predictLabel='+str(item['predictedLabel']))"
   ]
  },
  {
   "cell_type": "code",
   "execution_count": 36,
   "metadata": {},
   "outputs": [
    {
     "name": "stdout",
     "output_type": "stream",
     "text": [
      "Test Error = 0.33147773279352233\n",
      "Multinomial coefficients: DenseMatrix([[ 0.02510889,  0.        ,  0.        , -0.04403394],\n",
      "             [-0.02510889,  0.        ,  0.        ,  0.04403394]])Multinomial intercepts: [-0.019574561219578925,0.019574561219578925]numClasses: 2numFeatures: 4\n"
     ]
    }
   ],
   "source": [
    "mlrAccuracy = evaluator.evaluate(mlrPredictions)\n",
    "print(\"Test Error = \" + str(1.0 - mlrAccuracy))\n",
    "#Test Error = 0.48730158730158735\n",
    "mlrModel = mlrPipelineModel.stages[2]\n",
    "print(\"Multinomial coefficients: \" + str(mlrModel.coefficientMatrix)+\"Multinomial intercepts: \"+str(mlrModel.interceptVector)+\"numClasses: \"+str(mlrModel.numClasses)+\"numFeatures: \"+str(mlrModel.numFeatures))"
   ]
  },
  {
   "cell_type": "markdown",
   "metadata": {},
   "source": [
    "### 决策树"
   ]
  },
  {
   "cell_type": "code",
   "execution_count": 37,
   "metadata": {
    "collapsed": true
   },
   "outputs": [],
   "source": [
    "from pyspark.ml.linalg import Vector,Vectors\n",
    "from pyspark.sql import Row\n",
    "from pyspark.ml import Pipeline\n",
    "from pyspark.ml.feature import IndexToString,StringIndexer,VectorIndexer"
   ]
  },
  {
   "cell_type": "code",
   "execution_count": 38,
   "metadata": {
    "collapsed": true
   },
   "outputs": [],
   "source": [
    "def f(x):\n",
    "    rel = {}\n",
    "    rel['features'] = Vectors.dense(float(x[0]),float(x[1]),float(x[2]),float(x[3]))\n",
    "    rel['label'] = str(x[4])\n",
    "    return rel\n",
    "\n",
    "data = spark.sparkContext.textFile(\"iris.txt\").map(lambda line:line.split(',')).map(lambda p: Row(**f(p))).toDF()"
   ]
  },
  {
   "cell_type": "code",
   "execution_count": 39,
   "metadata": {},
   "outputs": [
    {
     "name": "stdout",
     "output_type": "stream",
     "text": [
      "Iris-setosa:[5.1,3.5,1.4,0.2]\n",
      "Iris-setosa:[4.9,3.0,1.4,0.2]\n",
      "Iris-setosa:[4.7,3.2,1.3,0.2]\n",
      "Iris-setosa:[4.6,3.1,1.5,0.2]\n",
      "Iris-setosa:[5.0,3.6,1.4,0.2]\n",
      "Iris-setosa:[5.4,3.9,1.7,0.4]\n",
      "Iris-setosa:[4.6,3.4,1.4,0.3]\n",
      "Iris-setosa:[5.0,3.4,1.5,0.2]\n",
      "Iris-setosa:[4.4,2.9,1.4,0.2]\n",
      "Iris-setosa:[4.9,3.1,1.5,0.1]\n",
      "Iris-setosa:[5.4,3.7,1.5,0.2]\n",
      "Iris-setosa:[4.8,3.4,1.6,0.2]\n",
      "Iris-setosa:[4.8,3.0,1.4,0.1]\n",
      "Iris-setosa:[4.3,3.0,1.1,0.1]\n",
      "Iris-setosa:[5.8,4.0,1.2,0.2]\n",
      "Iris-setosa:[5.7,4.4,1.5,0.4]\n",
      "Iris-setosa:[5.4,3.9,1.3,0.4]\n",
      "Iris-setosa:[5.1,3.5,1.4,0.3]\n",
      "Iris-setosa:[5.7,3.8,1.7,0.3]\n",
      "Iris-setosa:[5.1,3.8,1.5,0.3]\n",
      "Iris-setosa:[5.4,3.4,1.7,0.2]\n",
      "Iris-setosa:[5.1,3.7,1.5,0.4]\n",
      "Iris-setosa:[4.6,3.6,1.0,0.2]\n",
      "Iris-setosa:[5.1,3.3,1.7,0.5]\n",
      "Iris-setosa:[4.8,3.4,1.9,0.2]\n",
      "Iris-setosa:[5.0,3.0,1.6,0.2]\n",
      "Iris-setosa:[5.0,3.4,1.6,0.4]\n",
      "Iris-setosa:[5.2,3.5,1.5,0.2]\n",
      "Iris-setosa:[5.2,3.4,1.4,0.2]\n",
      "Iris-setosa:[4.7,3.2,1.6,0.2]\n",
      "Iris-setosa:[4.8,3.1,1.6,0.2]\n",
      "Iris-setosa:[5.4,3.4,1.5,0.4]\n",
      "Iris-setosa:[5.2,4.1,1.5,0.1]\n",
      "Iris-setosa:[5.5,4.2,1.4,0.2]\n",
      "Iris-setosa:[4.9,3.1,1.5,0.1]\n",
      "Iris-setosa:[5.0,3.2,1.2,0.2]\n",
      "Iris-setosa:[5.5,3.5,1.3,0.2]\n",
      "Iris-setosa:[4.9,3.1,1.5,0.1]\n",
      "Iris-setosa:[4.4,3.0,1.3,0.2]\n",
      "Iris-setosa:[5.1,3.4,1.5,0.2]\n",
      "Iris-setosa:[5.0,3.5,1.3,0.3]\n",
      "Iris-setosa:[4.5,2.3,1.3,0.3]\n",
      "Iris-setosa:[4.4,3.2,1.3,0.2]\n",
      "Iris-setosa:[5.0,3.5,1.6,0.6]\n",
      "Iris-setosa:[5.1,3.8,1.9,0.4]\n",
      "Iris-setosa:[4.8,3.0,1.4,0.3]\n",
      "Iris-setosa:[5.1,3.8,1.6,0.2]\n",
      "Iris-setosa:[4.6,3.2,1.4,0.2]\n",
      "Iris-setosa:[5.3,3.7,1.5,0.2]\n",
      "Iris-setosa:[5.0,3.3,1.4,0.2]\n",
      "Iris-versicolor:[7.0,3.2,4.7,1.4]\n",
      "Iris-versicolor:[6.4,3.2,4.5,1.5]\n",
      "Iris-versicolor:[6.9,3.1,4.9,1.5]\n",
      "Iris-versicolor:[5.5,2.3,4.0,1.3]\n",
      "Iris-versicolor:[6.5,2.8,4.6,1.5]\n",
      "Iris-versicolor:[5.7,2.8,4.5,1.3]\n",
      "Iris-versicolor:[6.3,3.3,4.7,1.6]\n",
      "Iris-versicolor:[4.9,2.4,3.3,1.0]\n",
      "Iris-versicolor:[6.6,2.9,4.6,1.3]\n",
      "Iris-versicolor:[5.2,2.7,3.9,1.4]\n",
      "Iris-versicolor:[5.0,2.0,3.5,1.0]\n",
      "Iris-versicolor:[5.9,3.0,4.2,1.5]\n",
      "Iris-versicolor:[6.0,2.2,4.0,1.0]\n",
      "Iris-versicolor:[6.1,2.9,4.7,1.4]\n",
      "Iris-versicolor:[5.6,2.9,3.6,1.3]\n",
      "Iris-versicolor:[6.7,3.1,4.4,1.4]\n",
      "Iris-versicolor:[5.6,3.0,4.5,1.5]\n",
      "Iris-versicolor:[5.8,2.7,4.1,1.0]\n",
      "Iris-versicolor:[6.2,2.2,4.5,1.5]\n",
      "Iris-versicolor:[5.6,2.5,3.9,1.1]\n",
      "Iris-versicolor:[5.9,3.2,4.8,1.8]\n",
      "Iris-versicolor:[6.1,2.8,4.0,1.3]\n",
      "Iris-versicolor:[6.3,2.5,4.9,1.5]\n",
      "Iris-versicolor:[6.1,2.8,4.7,1.2]\n",
      "Iris-versicolor:[6.4,2.9,4.3,1.3]\n",
      "Iris-versicolor:[6.6,3.0,4.4,1.4]\n",
      "Iris-versicolor:[6.8,2.8,4.8,1.4]\n",
      "Iris-versicolor:[6.7,3.0,5.0,1.7]\n",
      "Iris-versicolor:[6.0,2.9,4.5,1.5]\n",
      "Iris-versicolor:[5.7,2.6,3.5,1.0]\n",
      "Iris-versicolor:[5.5,2.4,3.8,1.1]\n",
      "Iris-versicolor:[5.5,2.4,3.7,1.0]\n",
      "Iris-versicolor:[5.8,2.7,3.9,1.2]\n",
      "Iris-versicolor:[6.0,2.7,5.1,1.6]\n",
      "Iris-versicolor:[5.4,3.0,4.5,1.5]\n",
      "Iris-versicolor:[6.0,3.4,4.5,1.6]\n",
      "Iris-versicolor:[6.7,3.1,4.7,1.5]\n",
      "Iris-versicolor:[6.3,2.3,4.4,1.3]\n",
      "Iris-versicolor:[5.6,3.0,4.1,1.3]\n",
      "Iris-versicolor:[5.5,2.5,4.0,1.3]\n",
      "Iris-versicolor:[5.5,2.6,4.4,1.2]\n",
      "Iris-versicolor:[6.1,3.0,4.6,1.4]\n",
      "Iris-versicolor:[5.8,2.6,4.0,1.2]\n",
      "Iris-versicolor:[5.0,2.3,3.3,1.0]\n",
      "Iris-versicolor:[5.6,2.7,4.2,1.3]\n",
      "Iris-versicolor:[5.7,3.0,4.2,1.2]\n",
      "Iris-versicolor:[5.7,2.9,4.2,1.3]\n",
      "Iris-versicolor:[6.2,2.9,4.3,1.3]\n",
      "Iris-versicolor:[5.1,2.5,3.0,1.1]\n",
      "Iris-versicolor:[5.7,2.8,4.1,1.3]\n",
      "Iris-virginica:[6.3,3.3,6.0,2.5]\n",
      "Iris-virginica:[5.8,2.7,5.1,1.9]\n",
      "Iris-virginica:[7.1,3.0,5.9,2.1]\n",
      "Iris-virginica:[6.3,2.9,5.6,1.8]\n",
      "Iris-virginica:[6.5,3.0,5.8,2.2]\n",
      "Iris-virginica:[7.6,3.0,6.6,2.1]\n",
      "Iris-virginica:[4.9,2.5,4.5,1.7]\n",
      "Iris-virginica:[7.3,2.9,6.3,1.8]\n",
      "Iris-virginica:[6.7,2.5,5.8,1.8]\n",
      "Iris-virginica:[7.2,3.6,6.1,2.5]\n",
      "Iris-virginica:[6.5,3.2,5.1,2.0]\n",
      "Iris-virginica:[6.4,2.7,5.3,1.9]\n",
      "Iris-virginica:[6.8,3.0,5.5,2.1]\n",
      "Iris-virginica:[5.7,2.5,5.0,2.0]\n",
      "Iris-virginica:[5.8,2.8,5.1,2.4]\n",
      "Iris-virginica:[6.4,3.2,5.3,2.3]\n",
      "Iris-virginica:[6.5,3.0,5.5,1.8]\n",
      "Iris-virginica:[7.7,3.8,6.7,2.2]\n",
      "Iris-virginica:[7.7,2.6,6.9,2.3]\n",
      "Iris-virginica:[6.0,2.2,5.0,1.5]\n",
      "Iris-virginica:[6.9,3.2,5.7,2.3]\n",
      "Iris-virginica:[5.6,2.8,4.9,2.0]\n",
      "Iris-virginica:[7.7,2.8,6.7,2.0]\n",
      "Iris-virginica:[6.3,2.7,4.9,1.8]\n",
      "Iris-virginica:[6.7,3.3,5.7,2.1]\n",
      "Iris-virginica:[7.2,3.2,6.0,1.8]\n",
      "Iris-virginica:[6.2,2.8,4.8,1.8]\n",
      "Iris-virginica:[6.1,3.0,4.9,1.8]\n",
      "Iris-virginica:[6.4,2.8,5.6,2.1]\n",
      "Iris-virginica:[7.2,3.0,5.8,1.6]\n",
      "Iris-virginica:[7.4,2.8,6.1,1.9]\n",
      "Iris-virginica:[7.9,3.8,6.4,2.0]\n",
      "Iris-virginica:[6.4,2.8,5.6,2.2]\n",
      "Iris-virginica:[6.3,2.8,5.1,1.5]\n",
      "Iris-virginica:[6.1,2.6,5.6,1.4]\n",
      "Iris-virginica:[7.7,3.0,6.1,2.3]\n",
      "Iris-virginica:[6.3,3.4,5.6,2.4]\n",
      "Iris-virginica:[6.4,3.1,5.5,1.8]\n",
      "Iris-virginica:[6.0,3.0,4.8,1.8]\n",
      "Iris-virginica:[6.9,3.1,5.4,2.1]\n",
      "Iris-virginica:[6.7,3.1,5.6,2.4]\n",
      "Iris-virginica:[6.9,3.1,5.1,2.3]\n",
      "Iris-virginica:[5.8,2.7,5.1,1.9]\n",
      "Iris-virginica:[6.8,3.2,5.9,2.3]\n",
      "Iris-virginica:[6.7,3.3,5.7,2.5]\n",
      "Iris-virginica:[6.7,3.0,5.2,2.3]\n",
      "Iris-virginica:[6.3,2.5,5.0,1.9]\n",
      "Iris-virginica:[6.5,3.0,5.2,2.0]\n",
      "Iris-virginica:[6.2,3.4,5.4,2.3]\n",
      "Iris-virginica:[5.9,3.0,5.1,1.8]\n"
     ]
    }
   ],
   "source": [
    "data.createOrReplaceTempView(\"iris\")\n",
    "df = spark.sql(\"select * from iris\")\n",
    " \n",
    "rel = df.rdd.map(lambda t : str(t[1])+\":\"+str(t[0])).collect()\n",
    "for item in rel:\n",
    "    print(item)"
   ]
  },
  {
   "cell_type": "code",
   "execution_count": 41,
   "metadata": {},
   "outputs": [],
   "source": [
    "#分别获取标签列和特征列，进行索引，并进行了重命名。\n",
    "labelIndexer = StringIndexer().setInputCol(\"label\").setOutputCol(\"indexedLabel\").fit(df)\n",
    "featureIndexer = VectorIndexer().setInputCol(\"features\").setOutputCol(\"indexedFeatures\").setMaxCategories(4).fit(df)\n",
    "#这里我们设置一个labelConverter，目的是把预测的类别重新转化成字符型的。\n",
    "labelConverter = IndexToString().setInputCol(\"prediction\").setOutputCol(\"predictedLabel\").setLabels(labelIndexer.labels)\n",
    "#接下来，我们把数据集随机分成训练集和测试集，其中训练集占70%。\n",
    "trainingData, testData = data.randomSplit([0.7, 0.3])"
   ]
  },
  {
   "cell_type": "code",
   "execution_count": 42,
   "metadata": {},
   "outputs": [
    {
     "name": "stdout",
     "output_type": "stream",
     "text": [
      "+---------------+---------------+-----------------+\n",
      "| predictedLabel|          label|         features|\n",
      "+---------------+---------------+-----------------+\n",
      "|    Iris-setosa|    Iris-setosa|[4.3,3.0,1.1,0.1]|\n",
      "|    Iris-setosa|    Iris-setosa|[4.4,3.0,1.3,0.2]|\n",
      "|    Iris-setosa|    Iris-setosa|[4.5,2.3,1.3,0.3]|\n",
      "|Iris-versicolor| Iris-virginica|[4.9,2.5,4.5,1.7]|\n",
      "|Iris-versicolor|Iris-versicolor|[5.0,2.0,3.5,1.0]|\n",
      "|    Iris-setosa|    Iris-setosa|[5.0,3.2,1.2,0.2]|\n",
      "|    Iris-setosa|    Iris-setosa|[5.0,3.5,1.3,0.3]|\n",
      "|    Iris-setosa|    Iris-setosa|[5.0,3.5,1.6,0.6]|\n",
      "|    Iris-setosa|    Iris-setosa|[5.1,3.3,1.7,0.5]|\n",
      "|    Iris-setosa|    Iris-setosa|[5.1,3.5,1.4,0.3]|\n",
      "|    Iris-setosa|    Iris-setosa|[5.1,3.8,1.5,0.3]|\n",
      "|    Iris-setosa|    Iris-setosa|[5.1,3.8,1.6,0.2]|\n",
      "|Iris-versicolor|Iris-versicolor|[5.2,2.7,3.9,1.4]|\n",
      "|    Iris-setosa|    Iris-setosa|[5.2,3.5,1.5,0.2]|\n",
      "|Iris-versicolor|Iris-versicolor|[5.5,2.6,4.4,1.2]|\n",
      "|    Iris-setosa|    Iris-setosa|[5.5,3.5,1.3,0.2]|\n",
      "|Iris-versicolor|Iris-versicolor|[5.6,2.5,3.9,1.1]|\n",
      "| Iris-virginica| Iris-virginica|[5.6,2.8,4.9,2.0]|\n",
      "|Iris-versicolor|Iris-versicolor|[5.6,3.0,4.5,1.5]|\n",
      "|Iris-versicolor|Iris-versicolor|[5.7,2.8,4.1,1.3]|\n",
      "+---------------+---------------+-----------------+\n",
      "only showing top 20 rows\n",
      "\n"
     ]
    }
   ],
   "source": [
    "from pyspark.ml.classification import DecisionTreeClassificationModel,DecisionTreeClassifier\n",
    "from pyspark.ml.evaluation import MulticlassClassificationEvaluator\n",
    "dtClassifier = DecisionTreeClassifier().setLabelCol(\"indexedLabel\").setFeaturesCol(\"indexedFeatures\")\n",
    "pipelinedClassifier = Pipeline().setStages([labelIndexer, featureIndexer, dtClassifier, labelConverter])\n",
    "# 决策树模型\n",
    "modelClassifier = pipelinedClassifier.fit(trainingData)\n",
    "# 进行预测\n",
    "predictionsClassifier = modelClassifier.transform(testData)\n",
    "# 查看部分预测的结果\n",
    "predictionsClassifier.select(\"predictedLabel\", \"label\", \"features\").show(20)"
   ]
  },
  {
   "cell_type": "code",
   "execution_count": 43,
   "metadata": {},
   "outputs": [
    {
     "name": "stdout",
     "output_type": "stream",
     "text": [
      "Test Error = 0.09615384615384615\n",
      "Learned classification tree model:\n",
      "DecisionTreeClassificationModel (uid=DecisionTreeClassifier_ea24d08dd2da) of depth 4 with 9 nodes\n",
      "  If (feature 2 <= 2.45)\n",
      "   Predict: 0.0\n",
      "  Else (feature 2 > 2.45)\n",
      "   If (feature 3 <= 1.75)\n",
      "    Predict: 1.0\n",
      "   Else (feature 3 > 1.75)\n",
      "    If (feature 2 <= 4.85)\n",
      "     If (feature 0 <= 5.95)\n",
      "      Predict: 1.0\n",
      "     Else (feature 0 > 5.95)\n",
      "      Predict: 2.0\n",
      "    Else (feature 2 > 4.85)\n",
      "     Predict: 2.0\n",
      "\n"
     ]
    }
   ],
   "source": [
    "# 评估决策树的类型\n",
    "evaluatorClassifier = MulticlassClassificationEvaluator().setLabelCol(\"indexedLabel\").setPredictionCol(\"prediction\").setMetricName(\"accuracy\")\n",
    "accuracy = evaluatorClassifier.evaluate(predictionsClassifier)\n",
    "print(\"Test Error = \" + str(1.0 - accuracy))\n",
    "treeModelClassifier = modelClassifier.stages[2]\n",
    "print(\"Learned classification tree model:\\n\" + str(treeModelClassifier.toDebugString))"
   ]
  },
  {
   "cell_type": "code",
   "execution_count": 45,
   "metadata": {},
   "outputs": [
    {
     "name": "stdout",
     "output_type": "stream",
     "text": [
      "+---------------+---------------+-----------------+\n",
      "| predictedLabel|          label|         features|\n",
      "+---------------+---------------+-----------------+\n",
      "|    Iris-setosa|    Iris-setosa|[4.3,3.0,1.1,0.1]|\n",
      "|    Iris-setosa|    Iris-setosa|[4.4,3.0,1.3,0.2]|\n",
      "|    Iris-setosa|    Iris-setosa|[4.5,2.3,1.3,0.3]|\n",
      "|Iris-versicolor| Iris-virginica|[4.9,2.5,4.5,1.7]|\n",
      "|Iris-versicolor|Iris-versicolor|[5.0,2.0,3.5,1.0]|\n",
      "|    Iris-setosa|    Iris-setosa|[5.0,3.2,1.2,0.2]|\n",
      "|    Iris-setosa|    Iris-setosa|[5.0,3.5,1.3,0.3]|\n",
      "|    Iris-setosa|    Iris-setosa|[5.0,3.5,1.6,0.6]|\n",
      "|    Iris-setosa|    Iris-setosa|[5.1,3.3,1.7,0.5]|\n",
      "|    Iris-setosa|    Iris-setosa|[5.1,3.5,1.4,0.3]|\n",
      "|    Iris-setosa|    Iris-setosa|[5.1,3.8,1.5,0.3]|\n",
      "|    Iris-setosa|    Iris-setosa|[5.1,3.8,1.6,0.2]|\n",
      "|Iris-versicolor|Iris-versicolor|[5.2,2.7,3.9,1.4]|\n",
      "|    Iris-setosa|    Iris-setosa|[5.2,3.5,1.5,0.2]|\n",
      "|Iris-versicolor|Iris-versicolor|[5.5,2.6,4.4,1.2]|\n",
      "|    Iris-setosa|    Iris-setosa|[5.5,3.5,1.3,0.2]|\n",
      "|Iris-versicolor|Iris-versicolor|[5.6,2.5,3.9,1.1]|\n",
      "| Iris-virginica| Iris-virginica|[5.6,2.8,4.9,2.0]|\n",
      "|Iris-versicolor|Iris-versicolor|[5.6,3.0,4.5,1.5]|\n",
      "|Iris-versicolor|Iris-versicolor|[5.7,2.8,4.1,1.3]|\n",
      "+---------------+---------------+-----------------+\n",
      "only showing top 20 rows\n",
      "\n"
     ]
    }
   ],
   "source": [
    "# 构建决策树分类模型\n",
    "from pyspark.ml.regression import DecisionTreeRegressionModel,DecisionTreeRegressor\n",
    "from pyspark.ml.evaluation import RegressionEvaluator\n",
    "#训练决策树模型\n",
    "dtRegressor = DecisionTreeRegressor().setLabelCol(\"indexedLabel\").setFeaturesCol(\"indexedFeatures\")\n",
    "#在pipeline中进行设置\n",
    "pipelineRegressor = Pipeline().setStages([labelIndexer, featureIndexer, dtRegressor, labelConverter])\n",
    "#训练决策树模型\n",
    "modelRegressor = pipelineRegressor.fit(trainingData)\n",
    "#进行预测\n",
    "predictionsRegressor = modelRegressor.transform(testData)\n",
    "#查看部分预测结果\n",
    "predictionsRegressor.select(\"predictedLabel\", \"label\", \"features\").show(20)"
   ]
  }
 ],
 "metadata": {
  "kernelspec": {
   "display_name": "Python 3",
   "language": "python",
   "name": "python3"
  },
  "language_info": {
   "codemirror_mode": {
    "name": "ipython",
    "version": 3
   },
   "file_extension": ".py",
   "mimetype": "text/x-python",
   "name": "python",
   "nbconvert_exporter": "python",
   "pygments_lexer": "ipython3",
   "version": "3.6.2"
  }
 },
 "nbformat": 4,
 "nbformat_minor": 2
}
