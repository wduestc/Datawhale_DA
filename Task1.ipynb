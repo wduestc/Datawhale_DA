{
 "cells": [
  {
   "cell_type": "markdown",
   "metadata": {},
   "source": [
    "### 1.导入numpy库并简写为np"
   ]
  },
  {
   "cell_type": "code",
   "execution_count": 1,
   "metadata": {
    "collapsed": true
   },
   "outputs": [],
   "source": [
    "import numpy as np"
   ]
  },
  {
   "cell_type": "markdown",
   "metadata": {},
   "source": [
    "### 2.打印numpy的版本和配置说明"
   ]
  },
  {
   "cell_type": "code",
   "execution_count": 5,
   "metadata": {},
   "outputs": [
    {
     "name": "stdout",
     "output_type": "stream",
     "text": [
      "1.16.4\n",
      "blas_mkl_info:\n",
      "  NOT AVAILABLE\n",
      "blis_info:\n",
      "  NOT AVAILABLE\n",
      "openblas_info:\n",
      "    library_dirs = ['C:\\\\projects\\\\numpy-wheels\\\\numpy\\\\build\\\\openblas']\n",
      "    libraries = ['openblas']\n",
      "    language = f77\n",
      "    define_macros = [('HAVE_CBLAS', None)]\n",
      "blas_opt_info:\n",
      "    library_dirs = ['C:\\\\projects\\\\numpy-wheels\\\\numpy\\\\build\\\\openblas']\n",
      "    libraries = ['openblas']\n",
      "    language = f77\n",
      "    define_macros = [('HAVE_CBLAS', None)]\n",
      "lapack_mkl_info:\n",
      "  NOT AVAILABLE\n",
      "openblas_lapack_info:\n",
      "    library_dirs = ['C:\\\\projects\\\\numpy-wheels\\\\numpy\\\\build\\\\openblas']\n",
      "    libraries = ['openblas']\n",
      "    language = f77\n",
      "    define_macros = [('HAVE_CBLAS', None)]\n",
      "lapack_opt_info:\n",
      "    library_dirs = ['C:\\\\projects\\\\numpy-wheels\\\\numpy\\\\build\\\\openblas']\n",
      "    libraries = ['openblas']\n",
      "    language = f77\n",
      "    define_macros = [('HAVE_CBLAS', None)]\n"
     ]
    }
   ],
   "source": [
    "print (np.__version__)\n",
    "np.show_config()"
   ]
  },
  {
   "cell_type": "markdown",
   "metadata": {},
   "source": [
    "### 3. 创建一个长度为10的空间量"
   ]
  },
  {
   "cell_type": "code",
   "execution_count": 7,
   "metadata": {},
   "outputs": [
    {
     "data": {
      "text/plain": [
       "array([0., 0., 0., 0., 0., 0., 0., 0., 0., 0.])"
      ]
     },
     "execution_count": 7,
     "metadata": {},
     "output_type": "execute_result"
    }
   ],
   "source": [
    "data = np.zeros(10)\n",
    "data"
   ]
  },
  {
   "cell_type": "markdown",
   "metadata": {},
   "source": [
    "### 4. 如何找到任何一个数组的内存大小"
   ]
  },
  {
   "cell_type": "code",
   "execution_count": 8,
   "metadata": {},
   "outputs": [
    {
     "name": "stdout",
     "output_type": "stream",
     "text": [
      "200 bytes\n"
     ]
    }
   ],
   "source": [
    "mat = np.zeros((5, 5))\n",
    "print (\"{} bytes\".format(mat.size * mat.itemsize))"
   ]
  },
  {
   "cell_type": "markdown",
   "metadata": {},
   "source": [
    "### 5.如何从命令行中得到numpy中的add函数的说明文档?"
   ]
  },
  {
   "cell_type": "code",
   "execution_count": 11,
   "metadata": {},
   "outputs": [
    {
     "name": "stdout",
     "output_type": "stream",
     "text": [
      "add(x1, x2, /, out=None, *, where=True, casting='same_kind', order='K', dtype=None, subok=True[, signature, extobj])\n",
      "\n",
      "Add arguments element-wise.\n",
      "\n",
      "Parameters\n",
      "----------\n",
      "x1, x2 : array_like\n",
      "    The arrays to be added.  If ``x1.shape != x2.shape``, they must be\n",
      "    broadcastable to a common shape (which may be the shape of one or\n",
      "    the other).\n",
      "out : ndarray, None, or tuple of ndarray and None, optional\n",
      "    A location into which the result is stored. If provided, it must have\n",
      "    a shape that the inputs broadcast to. If not provided or `None`,\n",
      "    a freshly-allocated array is returned. A tuple (possible only as a\n",
      "    keyword argument) must have length equal to the number of outputs.\n",
      "where : array_like, optional\n",
      "    Values of True indicate to calculate the ufunc at that position, values\n",
      "    of False indicate to leave the value in the output alone.\n",
      "**kwargs\n",
      "    For other keyword-only arguments, see the\n",
      "    :ref:`ufunc docs <ufuncs.kwargs>`.\n",
      "\n",
      "Returns\n",
      "-------\n",
      "add : ndarray or scalar\n",
      "    The sum of `x1` and `x2`, element-wise.\n",
      "    This is a scalar if both `x1` and `x2` are scalars.\n",
      "\n",
      "Notes\n",
      "-----\n",
      "Equivalent to `x1` + `x2` in terms of array broadcasting.\n",
      "\n",
      "Examples\n",
      "--------\n",
      ">>> np.add(1.0, 4.0)\n",
      "5.0\n",
      ">>> x1 = np.arange(9.0).reshape((3, 3))\n",
      ">>> x2 = np.arange(3.0)\n",
      ">>> np.add(x1, x2)\n",
      "array([[  0.,   2.,   4.],\n",
      "       [  3.,   5.,   7.],\n",
      "       [  6.,   8.,  10.]])\n"
     ]
    }
   ],
   "source": [
    "np.info(np.add)"
   ]
  },
  {
   "cell_type": "markdown",
   "metadata": {},
   "source": [
    "### 6.创建一个长度为10并且除了第五个值为1的空向量"
   ]
  },
  {
   "cell_type": "code",
   "execution_count": 12,
   "metadata": {},
   "outputs": [
    {
     "data": {
      "text/plain": [
       "array([0., 0., 0., 0., 1., 0., 0., 0., 0., 0.])"
      ]
     },
     "execution_count": 12,
     "metadata": {},
     "output_type": "execute_result"
    }
   ],
   "source": [
    "z = np.zeros(10)\n",
    "z[4] = 1\n",
    "z"
   ]
  },
  {
   "cell_type": "markdown",
   "metadata": {},
   "source": [
    "### 7.创建一个值域范围从10到49的向量"
   ]
  },
  {
   "cell_type": "code",
   "execution_count": 15,
   "metadata": {},
   "outputs": [
    {
     "data": {
      "text/plain": [
       "array([10, 11, 12, 13, 14, 15, 16, 17, 18, 19, 20, 21, 22, 23, 24, 25, 26,\n",
       "       27, 28, 29, 30, 31, 32, 33, 34, 35, 36, 37, 38, 39, 40, 41, 42, 43,\n",
       "       44, 45, 46, 47, 48, 49])"
      ]
     },
     "execution_count": 15,
     "metadata": {},
     "output_type": "execute_result"
    }
   ],
   "source": [
    "Z = np.arange(10, 50)\n",
    "Z"
   ]
  },
  {
   "cell_type": "markdown",
   "metadata": {},
   "source": [
    "### 8. 反转一个向量(第一个元素变为最后一个)"
   ]
  },
  {
   "cell_type": "code",
   "execution_count": 17,
   "metadata": {},
   "outputs": [
    {
     "data": {
      "text/plain": [
       "array([49, 48, 47, 46, 45, 44, 43, 42, 41, 40, 39, 38, 37, 36, 35, 34, 33,\n",
       "       32, 31, 30, 29, 28, 27, 26, 25, 24, 23, 22, 21, 20, 19, 18, 17, 16,\n",
       "       15, 14, 13, 12, 11, 10,  9,  8,  7,  6,  5,  4,  3,  2,  1,  0])"
      ]
     },
     "execution_count": 17,
     "metadata": {},
     "output_type": "execute_result"
    }
   ],
   "source": [
    "Z = np.arange(50)\n",
    "Z = Z[::-1]\n",
    "Z"
   ]
  },
  {
   "cell_type": "markdown",
   "metadata": {},
   "source": [
    "### 9. 创建一个3X3并且值从0到8的矩阵"
   ]
  },
  {
   "cell_type": "code",
   "execution_count": 20,
   "metadata": {},
   "outputs": [
    {
     "data": {
      "text/plain": [
       "array([[0, 1, 2],\n",
       "       [3, 4, 5],\n",
       "       [6, 7, 8]])"
      ]
     },
     "execution_count": 20,
     "metadata": {},
     "output_type": "execute_result"
    }
   ],
   "source": [
    "z = np.arange(9).reshape(3, 3)\n",
    "z"
   ]
  },
  {
   "cell_type": "markdown",
   "metadata": {},
   "source": [
    "### 10. 找到数组[1, 2, 0, 0, 4, 0]中非0元素的位置索引"
   ]
  },
  {
   "cell_type": "code",
   "execution_count": 22,
   "metadata": {},
   "outputs": [
    {
     "data": {
      "text/plain": [
       "(array([0, 1, 4], dtype=int64),)"
      ]
     },
     "execution_count": 22,
     "metadata": {},
     "output_type": "execute_result"
    }
   ],
   "source": [
    "nz_list = [1,2,0,0,4,0]\n",
    "nz_index = np.nonzero(nz_list)\n",
    "nz_index"
   ]
  },
  {
   "cell_type": "markdown",
   "metadata": {},
   "source": [
    "### 11.创建一个3x3的单位矩阵"
   ]
  },
  {
   "cell_type": "code",
   "execution_count": 24,
   "metadata": {},
   "outputs": [
    {
     "data": {
      "text/plain": [
       "array([[1., 0., 0.],\n",
       "       [0., 1., 0.],\n",
       "       [0., 0., 1.]])"
      ]
     },
     "execution_count": 24,
     "metadata": {},
     "output_type": "execute_result"
    }
   ],
   "source": [
    "z = np.eye(3, 3)\n",
    "z"
   ]
  },
  {
   "cell_type": "markdown",
   "metadata": {},
   "source": [
    "### 12.创建一个3x3x3的随机数组"
   ]
  },
  {
   "cell_type": "code",
   "execution_count": 27,
   "metadata": {},
   "outputs": [
    {
     "data": {
      "text/plain": [
       "array([[[0.84894519, 0.39147331, 0.25474402],\n",
       "        [0.74370606, 0.66442117, 0.87794982],\n",
       "        [0.81918856, 0.48027443, 0.57934425]],\n",
       "\n",
       "       [[0.48943216, 0.72363489, 0.64044557],\n",
       "        [0.5032271 , 0.10715467, 0.90807752],\n",
       "        [0.18197596, 0.06519368, 0.54523407]],\n",
       "\n",
       "       [[0.39838192, 0.0865473 , 0.84168363],\n",
       "        [0.54679414, 0.36734537, 0.38528773],\n",
       "        [0.64158819, 0.70426165, 0.20119188]]])"
      ]
     },
     "execution_count": 27,
     "metadata": {},
     "output_type": "execute_result"
    }
   ],
   "source": [
    "z = np.random.random((3, 3, 3))\n",
    "z"
   ]
  },
  {
   "cell_type": "markdown",
   "metadata": {},
   "source": [
    "### 13. 创建一个10x10的随机数组并找到它的最大值最小值"
   ]
  },
  {
   "cell_type": "code",
   "execution_count": 29,
   "metadata": {},
   "outputs": [
    {
     "name": "stdout",
     "output_type": "stream",
     "text": [
      "0.0026387892507346855 0.9880190321400006\n"
     ]
    }
   ],
   "source": [
    "z = np.random.random((10, 10))\n",
    "zmin, zmax = z.min(), z.max()\n",
    "print (zmin, zmax)"
   ]
  },
  {
   "cell_type": "markdown",
   "metadata": {},
   "source": [
    "### 14.创建一个长度为30的随机向量并找到它的平均值"
   ]
  },
  {
   "cell_type": "code",
   "execution_count": 31,
   "metadata": {},
   "outputs": [
    {
     "name": "stdout",
     "output_type": "stream",
     "text": [
      "0.5427694928168987\n"
     ]
    }
   ],
   "source": [
    "z = np.random.random(30)\n",
    "m = z.mean()\n",
    "print (m)"
   ]
  },
  {
   "cell_type": "markdown",
   "metadata": {},
   "source": [
    "### 15. 创建一个二维数组,其中边界值为1,其余值为0"
   ]
  },
  {
   "cell_type": "code",
   "execution_count": 33,
   "metadata": {},
   "outputs": [
    {
     "name": "stdout",
     "output_type": "stream",
     "text": [
      "[[1. 1. 1. 1. 1. 1. 1. 1. 1. 1.]\n",
      " [1. 0. 0. 0. 0. 0. 0. 0. 0. 1.]\n",
      " [1. 0. 0. 0. 0. 0. 0. 0. 0. 1.]\n",
      " [1. 0. 0. 0. 0. 0. 0. 0. 0. 1.]\n",
      " [1. 0. 0. 0. 0. 0. 0. 0. 0. 1.]\n",
      " [1. 0. 0. 0. 0. 0. 0. 0. 0. 1.]\n",
      " [1. 0. 0. 0. 0. 0. 0. 0. 0. 1.]\n",
      " [1. 0. 0. 0. 0. 0. 0. 0. 0. 1.]\n",
      " [1. 0. 0. 0. 0. 0. 0. 0. 0. 1.]\n",
      " [1. 1. 1. 1. 1. 1. 1. 1. 1. 1.]]\n"
     ]
    }
   ],
   "source": [
    "Z = np.ones((10, 10))\n",
    "Z[1:-1, 1:-1] = 0\n",
    "print (Z)"
   ]
  },
  {
   "cell_type": "markdown",
   "metadata": {},
   "source": [
    "### 16.对于一个存在在数组,如何添加一个用0填充的边界?"
   ]
  },
  {
   "cell_type": "code",
   "execution_count": 35,
   "metadata": {},
   "outputs": [
    {
     "data": {
      "text/plain": [
       "array([[0., 0., 0., 0., 0., 0., 0.],\n",
       "       [0., 1., 1., 1., 1., 1., 0.],\n",
       "       [0., 1., 1., 1., 1., 1., 0.],\n",
       "       [0., 1., 1., 1., 1., 1., 0.],\n",
       "       [0., 1., 1., 1., 1., 1., 0.],\n",
       "       [0., 1., 1., 1., 1., 1., 0.],\n",
       "       [0., 0., 0., 0., 0., 0., 0.]])"
      ]
     },
     "execution_count": 35,
     "metadata": {},
     "output_type": "execute_result"
    }
   ],
   "source": [
    "z = np.ones((5, 5))\n",
    "z = np.pad(z, pad_width=1, mode='constant', constant_values=0)\n",
    "z"
   ]
  },
  {
   "cell_type": "markdown",
   "metadata": {},
   "source": [
    "### 17.以下表达式运行的结果分别是什么"
   ]
  },
  {
   "cell_type": "code",
   "execution_count": 41,
   "metadata": {},
   "outputs": [
    {
     "data": {
      "text/plain": [
       "False"
      ]
     },
     "execution_count": 41,
     "metadata": {},
     "output_type": "execute_result"
    }
   ],
   "source": [
    "print (0*np.nan) \n",
    "print (np.nan == np.nan)\n",
    "print (np.inf > np.nan)\n",
    "print (np.nan - np.nan)\n",
    "print (0.3 == 3 * 0.1)"
   ]
  },
  {
   "cell_type": "markdown",
   "metadata": {},
   "source": [
    "### 18. 创建一个5X5的矩阵,并设置1,2,3,4落在其对角线下方的位置"
   ]
  },
  {
   "cell_type": "code",
   "execution_count": 45,
   "metadata": {},
   "outputs": [
    {
     "name": "stdout",
     "output_type": "stream",
     "text": [
      "[[0 0 0 0 0]\n",
      " [1 0 0 0 0]\n",
      " [0 2 0 0 0]\n",
      " [0 0 3 0 0]\n",
      " [0 0 0 4 0]]\n"
     ]
    }
   ],
   "source": [
    "z = np.diag(1+np.arange(4), k=-1)\n",
    "print (z)"
   ]
  },
  {
   "cell_type": "markdown",
   "metadata": {},
   "source": [
    "### 19.创建一个8X8的矩阵,并且设置成棋盘样子"
   ]
  },
  {
   "cell_type": "code",
   "execution_count": 47,
   "metadata": {},
   "outputs": [
    {
     "name": "stdout",
     "output_type": "stream",
     "text": [
      "[[0 1 0 1 0 1 0 1]\n",
      " [1 0 1 0 1 0 1 0]\n",
      " [0 1 0 1 0 1 0 1]\n",
      " [1 0 1 0 1 0 1 0]\n",
      " [0 1 0 1 0 1 0 1]\n",
      " [1 0 1 0 1 0 1 0]\n",
      " [0 1 0 1 0 1 0 1]\n",
      " [1 0 1 0 1 0 1 0]]\n"
     ]
    }
   ],
   "source": [
    "z = np.zeros((8, 8), dtype=int)\n",
    "z[1::2, ::2] = 1\n",
    "z[::2, 1::2] = 1\n",
    "print (z)"
   ]
  },
  {
   "cell_type": "markdown",
   "metadata": {},
   "source": [
    "### 20. 考虑一个(6,7,8)形状的数组,其第100个元素的索引(x,y,z)是什么?"
   ]
  },
  {
   "cell_type": "code",
   "execution_count": 2,
   "metadata": {},
   "outputs": [
    {
     "name": "stdout",
     "output_type": "stream",
     "text": [
      "(1, 5, 4)\n"
     ]
    }
   ],
   "source": [
    "import numpy as np\n",
    "print (np.unravel_index(100, (6, 7, 8)))"
   ]
  },
  {
   "cell_type": "markdown",
   "metadata": {},
   "source": [
    "### 21.用tile函数创建一个8x8的棋盘样式矩阵"
   ]
  },
  {
   "cell_type": "code",
   "execution_count": 4,
   "metadata": {},
   "outputs": [
    {
     "data": {
      "text/plain": [
       "array([[1, 1, 1, 1, 1, 1, 1, 1],\n",
       "       [1, 1, 1, 1, 1, 1, 1, 1],\n",
       "       [1, 1, 1, 1, 1, 1, 1, 1],\n",
       "       [1, 1, 1, 1, 1, 1, 1, 1],\n",
       "       [1, 1, 1, 1, 1, 1, 1, 1],\n",
       "       [1, 1, 1, 1, 1, 1, 1, 1],\n",
       "       [1, 1, 1, 1, 1, 1, 1, 1],\n",
       "       [1, 1, 1, 1, 1, 1, 1, 1]])"
      ]
     },
     "execution_count": 4,
     "metadata": {},
     "output_type": "execute_result"
    }
   ],
   "source": [
    "z = np.tile(np.array([[1, 1],[1, 1]]), (4, 4))\n",
    "z"
   ]
  },
  {
   "cell_type": "markdown",
   "metadata": {},
   "source": [
    "### 22. 对一个5x5的随机矩阵做归一化 "
   ]
  },
  {
   "cell_type": "code",
   "execution_count": 6,
   "metadata": {},
   "outputs": [
    {
     "data": {
      "text/plain": [
       "array([[0.293372  , 0.78170959, 0.83535066, 0.67256972, 0.89373352],\n",
       "       [0.4833814 , 0.97915367, 0.85508976, 0.72903597, 0.8192265 ],\n",
       "       [0.89695501, 0.60975538, 0.51389536, 0.16209564, 0.        ],\n",
       "       [0.17984446, 0.93391369, 0.17429041, 1.        , 0.22764467],\n",
       "       [0.46923326, 0.00915632, 0.92792367, 0.32076378, 0.44467791]])"
      ]
     },
     "execution_count": 6,
     "metadata": {},
     "output_type": "execute_result"
    }
   ],
   "source": [
    "z = np.random.random((5, 5))\n",
    "zmax, zmin = z.max(), z.min()\n",
    "z = (z - zmin)/(zmax - zmin)\n",
    "z"
   ]
  },
  {
   "cell_type": "markdown",
   "metadata": {},
   "source": [
    "### 23.创建一个将颜色描述成为(RGBA)四个无符号字节的自定义dtype?"
   ]
  },
  {
   "cell_type": "code",
   "execution_count": 8,
   "metadata": {},
   "outputs": [
    {
     "data": {
      "text/plain": [
       "dtype([('r', 'u1'), ('g', 'u1'), ('b', 'u1'), ('a', 'u1')])"
      ]
     },
     "execution_count": 8,
     "metadata": {},
     "output_type": "execute_result"
    }
   ],
   "source": [
    "color = np.dtype([\n",
    "    (\"r\", np.ubyte, 1),\n",
    "    (\"g\", np.ubyte, 1),\n",
    "    (\"b\", np.ubyte, 1),\n",
    "    (\"a\", np.ubyte, 1)\n",
    "])\n",
    "color"
   ]
  },
  {
   "cell_type": "markdown",
   "metadata": {},
   "source": [
    "### 24.  一个5x3的矩阵与一个3x2的矩阵相乘，实矩阵乘积是什么？"
   ]
  },
  {
   "cell_type": "code",
   "execution_count": 11,
   "metadata": {},
   "outputs": [
    {
     "data": {
      "text/plain": [
       "array([[0.22490313, 0.23660535],\n",
       "       [0.16924961, 0.08258876],\n",
       "       [0.60809524, 0.65655527],\n",
       "       [0.45234949, 0.60646208],\n",
       "       [0.88662979, 0.68887627]])"
      ]
     },
     "execution_count": 11,
     "metadata": {},
     "output_type": "execute_result"
    }
   ],
   "source": [
    "z = np.dot(np.random.random((5, 3)), np.random.random((3, 2)))\n",
    "z"
   ]
  },
  {
   "cell_type": "markdown",
   "metadata": {},
   "source": [
    "### 25.给定一个一维数组,对其在3到8之间的所有元素取反 "
   ]
  },
  {
   "cell_type": "code",
   "execution_count": 28,
   "metadata": {},
   "outputs": [
    {
     "data": {
      "text/plain": [
       "array([ 0,  1,  2,  3, -4, -5, -6, -7, -8,  9, 10])"
      ]
     },
     "execution_count": 28,
     "metadata": {},
     "output_type": "execute_result"
    }
   ],
   "source": [
    "z = np.arange(11)\n",
    "z[(z>3) & (z <= 8)]*=-1\n",
    "z"
   ]
  },
  {
   "cell_type": "markdown",
   "metadata": {},
   "source": [
    "### 26.下面脚本运行的结果"
   ]
  },
  {
   "cell_type": "code",
   "execution_count": null,
   "metadata": {
    "collapsed": true
   },
   "outputs": [],
   "source": [
    "#------ 普通的sum和np.sum ----------\n",
    "print (sum(range(5), -1))\n",
    "import numpy as np\n",
    "print (np.sum(range(5), -1))"
   ]
  },
  {
   "cell_type": "markdown",
   "metadata": {},
   "source": [
    "### 27.考虑一个整数向量z,下列表达合法的是哪一个?"
   ]
  },
  {
   "cell_type": "code",
   "execution_count": 42,
   "metadata": {},
   "outputs": [
    {
     "ename": "ValueError",
     "evalue": "The truth value of an array with more than one element is ambiguous. Use a.any() or a.all()",
     "output_type": "error",
     "traceback": [
      "\u001b[1;31m---------------------------------------------------------------------------\u001b[0m",
      "\u001b[1;31mValueError\u001b[0m                                Traceback (most recent call last)",
      "\u001b[1;32m<ipython-input-42-f770f1f3c463>\u001b[0m in \u001b[0;36m<module>\u001b[1;34m()\u001b[0m\n\u001b[0;32m      5\u001b[0m \u001b[1;36m1j\u001b[0m\u001b[1;33m*\u001b[0m\u001b[0mz\u001b[0m\u001b[1;33m\u001b[0m\u001b[0m\n\u001b[0;32m      6\u001b[0m \u001b[0mz\u001b[0m\u001b[1;33m/\u001b[0m\u001b[1;36m1\u001b[0m\u001b[1;33m/\u001b[0m\u001b[1;36m1\u001b[0m\u001b[1;33m\u001b[0m\u001b[0m\n\u001b[1;32m----> 7\u001b[1;33m \u001b[0mz\u001b[0m\u001b[1;33m<\u001b[0m\u001b[0mz\u001b[0m\u001b[1;33m>\u001b[0m\u001b[0mz\u001b[0m\u001b[1;33m\u001b[0m\u001b[0m\n\u001b[0m",
      "\u001b[1;31mValueError\u001b[0m: The truth value of an array with more than one element is ambiguous. Use a.any() or a.all()"
     ]
    }
   ],
   "source": [
    "z = np.arange(5)\n",
    "z ** z\n",
    "2 << z >> 2\n",
    "z < -z\n",
    "1j*z\n",
    "z/1/1\n",
    "z<z>z"
   ]
  },
  {
   "cell_type": "markdown",
   "metadata": {},
   "source": [
    "### 28.下列表达式的结果分别是什么?"
   ]
  },
  {
   "cell_type": "code",
   "execution_count": 45,
   "metadata": {},
   "outputs": [
    {
     "name": "stdout",
     "output_type": "stream",
     "text": [
      "nan\n",
      "0\n",
      "[-2.14748365e+09]\n"
     ]
    },
    {
     "name": "stderr",
     "output_type": "stream",
     "text": [
      "C:\\Users\\wd\\Anaconda3\\lib\\site-packages\\ipykernel_launcher.py:1: RuntimeWarning: invalid value encountered in true_divide\n",
      "  \"\"\"Entry point for launching an IPython kernel.\n",
      "C:\\Users\\wd\\Anaconda3\\lib\\site-packages\\ipykernel_launcher.py:2: RuntimeWarning: divide by zero encountered in floor_divide\n",
      "  \n"
     ]
    }
   ],
   "source": [
    "print (np.array(0)/np.array(0))\n",
    "print (np.array(0)//np.array(0))\n",
    "print (np.array([np.nan]).astype(int).astype(float))"
   ]
  },
  {
   "cell_type": "markdown",
   "metadata": {},
   "source": [
    "### 29.如何从零位对浮点数组做舍入?"
   ]
  },
  {
   "cell_type": "code",
   "execution_count": 47,
   "metadata": {},
   "outputs": [
    {
     "name": "stdout",
     "output_type": "stream",
     "text": [
      "[ 1. -1.  1.  2. -1. -1. -3. -2. -2. -3.]\n"
     ]
    }
   ],
   "source": [
    "z = np.random.randn(10)\n",
    "print (np.copysign(np.ceil(np.abs(z)), z))"
   ]
  },
  {
   "cell_type": "markdown",
   "metadata": {},
   "source": [
    "### 30.如何找到两个数组中的共同元素？ "
   ]
  },
  {
   "cell_type": "code",
   "execution_count": 49,
   "metadata": {},
   "outputs": [
    {
     "name": "stdout",
     "output_type": "stream",
     "text": [
      "[1 4 6 7]\n"
     ]
    }
   ],
   "source": [
    "z1 = np.random.randint(0, 10, 10)\n",
    "z2 = np.random.randint(0, 10, 10)\n",
    "print (np.intersect1d(z1, z2))"
   ]
  },
  {
   "cell_type": "markdown",
   "metadata": {},
   "source": [
    "### 31.如何忽略所有的numpy的警告"
   ]
  },
  {
   "cell_type": "code",
   "execution_count": 51,
   "metadata": {
    "collapsed": true
   },
   "outputs": [],
   "source": [
    "defaults = np.seterr(all=\"ignore\")\n",
    "z = np.ones(1)/0"
   ]
  },
  {
   "cell_type": "markdown",
   "metadata": {},
   "source": [
    "### 32.下面的表达式是正确的吗? "
   ]
  },
  {
   "cell_type": "code",
   "execution_count": 53,
   "metadata": {},
   "outputs": [
    {
     "data": {
      "text/plain": [
       "False"
      ]
     },
     "execution_count": 53,
     "metadata": {},
     "output_type": "execute_result"
    }
   ],
   "source": [
    "np.sqrt(-1) == np.emath.sqrt(-1)"
   ]
  },
  {
   "cell_type": "markdown",
   "metadata": {},
   "source": [
    "### 33.如何得到昨天,今天和明天的日期"
   ]
  },
  {
   "cell_type": "code",
   "execution_count": 66,
   "metadata": {},
   "outputs": [
    {
     "name": "stdout",
     "output_type": "stream",
     "text": [
      "20190622\n",
      "20190621\n",
      "20190623\n",
      "2019-06-21 2019-06-22 2019-06-23\n"
     ]
    }
   ],
   "source": [
    "import datetime\n",
    "from datetime import datetime\n",
    "from datetime import timedelta\n",
    "#from datetime import datetime\n",
    "print (datetime.now().strftime(\"%Y%m%d\"))\n",
    "print ((datetime.now() - timedelta(days=1)).strftime(\"%Y%m%d\"))\n",
    "print ((datetime.now() + timedelta(days=1)).strftime(\"%Y%m%d\"))\n",
    "\n",
    "#------------ 如果是使用numpy ---------------\n",
    "yesterday = np.datetime64('today', 'D') - np.timedelta64(1, 'D')\n",
    "today     = np.datetime64('today', 'D')\n",
    "tomorrow  = np.datetime64('today', 'D') + np.timedelta64(1, 'D')\n",
    "print (yesterday, today, tomorrow)"
   ]
  },
  {
   "cell_type": "markdown",
   "metadata": {},
   "source": [
    "### 34. 如何得到所有与2016年7月对应的日期"
   ]
  },
  {
   "cell_type": "code",
   "execution_count": 70,
   "metadata": {},
   "outputs": [
    {
     "name": "stdout",
     "output_type": "stream",
     "text": [
      "['2016-07-01' '2016-07-02' '2016-07-03' '2016-07-04' '2016-07-05'\n",
      " '2016-07-06' '2016-07-07' '2016-07-08' '2016-07-09' '2016-07-10'\n",
      " '2016-07-11' '2016-07-12' '2016-07-13' '2016-07-14' '2016-07-15'\n",
      " '2016-07-16' '2016-07-17' '2016-07-18' '2016-07-19' '2016-07-20'\n",
      " '2016-07-21' '2016-07-22' '2016-07-23' '2016-07-24' '2016-07-25'\n",
      " '2016-07-26' '2016-07-27' '2016-07-28' '2016-07-29' '2016-07-30'\n",
      " '2016-07-31']\n"
     ]
    }
   ],
   "source": [
    "#import pandas as pd\n",
    "#pd.date_range('2016-07', '2016-08', freq='D')\n",
    "z = np.arange('2016-07', '2016-08', dtype='datetime64[D]')\n",
    "print (z)"
   ]
  },
  {
   "cell_type": "markdown",
   "metadata": {},
   "source": [
    "### 35.如何直接在位计算(A+B)\\*(-A/2)(不建立副本)"
   ]
  },
  {
   "cell_type": "code",
   "execution_count": 74,
   "metadata": {},
   "outputs": [
    {
     "name": "stdout",
     "output_type": "stream",
     "text": [
      "[-1.5 -1.5 -1.5]\n"
     ]
    }
   ],
   "source": [
    "a = np.ones(3)*1\n",
    "b = np.ones(3)*2\n",
    "np.add(a, b, out=b)\n",
    "np.divide(a, 2, out=a)\n",
    "np.negative(a, out=a)\n",
    "np.multiply(a, b, out=a)\n",
    "print (a)"
   ]
  },
  {
   "cell_type": "markdown",
   "metadata": {},
   "source": [
    "### 36.用五种不同的方法去提取一个随机数组的整数部分"
   ]
  },
  {
   "cell_type": "code",
   "execution_count": 75,
   "metadata": {},
   "outputs": [
    {
     "name": "stdout",
     "output_type": "stream",
     "text": [
      "[1. 6. 1. 1. 2. 2. 5. 8. 2. 5.]\n",
      "[1. 6. 1. 1. 2. 2. 5. 8. 2. 5.]\n",
      "[1. 6. 1. 1. 2. 2. 5. 8. 2. 5.]\n",
      "[1 6 1 1 2 2 5 8 2 5]\n",
      "[1. 6. 1. 1. 2. 2. 5. 8. 2. 5.]\n"
     ]
    }
   ],
   "source": [
    "z1 = np.random.uniform(0, 10, 10)\n",
    "print (z1 - z1%1)\n",
    "print (np.floor(z1))\n",
    "print (np.ceil(z1)-1)\n",
    "print (z1.astype(int))\n",
    "print (np.trunc(z1))"
   ]
  },
  {
   "cell_type": "markdown",
   "metadata": {},
   "source": [
    "### 37. 创建一个5x5的矩阵,其中每行的数值范围从0到4?"
   ]
  },
  {
   "cell_type": "code",
   "execution_count": 77,
   "metadata": {},
   "outputs": [
    {
     "name": "stdout",
     "output_type": "stream",
     "text": [
      "[[0. 1. 2. 3. 4.]\n",
      " [0. 1. 2. 3. 4.]\n",
      " [0. 1. 2. 3. 4.]\n",
      " [0. 1. 2. 3. 4.]\n",
      " [0. 1. 2. 3. 4.]]\n"
     ]
    }
   ],
   "source": [
    "z = np.zeros((5, 5))\n",
    "z += np.arange(5)\n",
    "print (z)"
   ]
  },
  {
   "cell_type": "markdown",
   "metadata": {},
   "source": [
    "### 38.通过考虑一个可生成10个整数的函数,来构建一个数组?"
   ]
  },
  {
   "cell_type": "code",
   "execution_count": 79,
   "metadata": {},
   "outputs": [
    {
     "name": "stdout",
     "output_type": "stream",
     "text": [
      "[0. 1. 2. 3. 4. 5. 6. 7. 8. 9.]\n"
     ]
    }
   ],
   "source": [
    "def generate():\n",
    "    for x in range(10):\n",
    "        yield x\n",
    "z = np.fromiter(generate(), dtype=float, count=-1)\n",
    "print (z)"
   ]
  },
  {
   "cell_type": "markdown",
   "metadata": {},
   "source": [
    "### 39. 创建一个长度为10的随机向量，其值域范围从0到1，但是不包括0和1 "
   ]
  },
  {
   "cell_type": "code",
   "execution_count": 82,
   "metadata": {},
   "outputs": [
    {
     "name": "stdout",
     "output_type": "stream",
     "text": [
      "[0.09090909 0.18181818 0.27272727 0.36363636 0.45454545 0.54545455\n",
      " 0.63636364 0.72727273 0.81818182 0.90909091]\n"
     ]
    }
   ],
   "source": [
    "z = np.linspace(0, 1, 11, endpoint=False)[1:]\n",
    "print (z)"
   ]
  },
  {
   "cell_type": "markdown",
   "metadata": {},
   "source": [
    "### 40.创建一个长度为10的随机向量,并将其排序?"
   ]
  },
  {
   "cell_type": "code",
   "execution_count": 84,
   "metadata": {},
   "outputs": [
    {
     "name": "stdout",
     "output_type": "stream",
     "text": [
      "[0.01401962 0.02875116 0.25644721 0.27565284 0.39161509 0.56629878\n",
      " 0.58575249 0.59274886 0.74995888 0.74997378]\n"
     ]
    }
   ],
   "source": [
    "z = np.random.random(10)\n",
    "z.sort()\n",
    "print (z)"
   ]
  },
  {
   "cell_type": "markdown",
   "metadata": {},
   "source": [
    "### 41.对于一个小数组，如何用比 np.sum更快的方式对其求和？"
   ]
  },
  {
   "cell_type": "code",
   "execution_count": 86,
   "metadata": {},
   "outputs": [
    {
     "data": {
      "text/plain": [
       "45"
      ]
     },
     "execution_count": 86,
     "metadata": {},
     "output_type": "execute_result"
    }
   ],
   "source": [
    "z = np.arange(10)\n",
    "np.add.reduce(z)"
   ]
  },
  {
   "cell_type": "markdown",
   "metadata": {},
   "source": [
    "### 42.对于两个随机数组A和B,检查它们是否相等？"
   ]
  },
  {
   "cell_type": "code",
   "execution_count": 88,
   "metadata": {},
   "outputs": [
    {
     "name": "stdout",
     "output_type": "stream",
     "text": [
      "False\n"
     ]
    }
   ],
   "source": [
    "a = np.random.randint(0, 2, 5)\n",
    "b = np.random.randint(0, 2, 5)\n",
    "equal = np.array_equal(a, b)\n",
    "print (equal)"
   ]
  },
  {
   "cell_type": "markdown",
   "metadata": {},
   "source": [
    "### 43.创建一个只读数组(read-only)?"
   ]
  },
  {
   "cell_type": "code",
   "execution_count": 90,
   "metadata": {},
   "outputs": [
    {
     "ename": "ValueError",
     "evalue": "assignment destination is read-only",
     "output_type": "error",
     "traceback": [
      "\u001b[1;31m---------------------------------------------------------------------------\u001b[0m",
      "\u001b[1;31mValueError\u001b[0m                                Traceback (most recent call last)",
      "\u001b[1;32m<ipython-input-90-4cfdac6695c7>\u001b[0m in \u001b[0;36m<module>\u001b[1;34m()\u001b[0m\n\u001b[0;32m      1\u001b[0m \u001b[0mz\u001b[0m \u001b[1;33m=\u001b[0m \u001b[0mnp\u001b[0m\u001b[1;33m.\u001b[0m\u001b[0mzeros\u001b[0m\u001b[1;33m(\u001b[0m\u001b[1;36m10\u001b[0m\u001b[1;33m)\u001b[0m\u001b[1;33m\u001b[0m\u001b[0m\n\u001b[0;32m      2\u001b[0m \u001b[0mz\u001b[0m\u001b[1;33m.\u001b[0m\u001b[0mflags\u001b[0m\u001b[1;33m.\u001b[0m\u001b[0mwriteable\u001b[0m \u001b[1;33m=\u001b[0m \u001b[1;32mFalse\u001b[0m\u001b[1;33m\u001b[0m\u001b[0m\n\u001b[1;32m----> 3\u001b[1;33m \u001b[0mz\u001b[0m\u001b[1;33m[\u001b[0m\u001b[1;36m0\u001b[0m\u001b[1;33m]\u001b[0m \u001b[1;33m=\u001b[0m \u001b[1;36m1\u001b[0m\u001b[1;33m\u001b[0m\u001b[0m\n\u001b[0m",
      "\u001b[1;31mValueError\u001b[0m: assignment destination is read-only"
     ]
    }
   ],
   "source": [
    "z = np.zeros(10)\n",
    "z.flags.writeable = False\n",
    "z[0] = 1"
   ]
  },
  {
   "cell_type": "markdown",
   "metadata": {},
   "source": [
    "### 44.将笛卡尔坐标下的一个10x2的矩阵转换为极坐标形式"
   ]
  },
  {
   "cell_type": "code",
   "execution_count": 92,
   "metadata": {},
   "outputs": [
    {
     "name": "stdout",
     "output_type": "stream",
     "text": [
      "[0.54790908 0.85975446 0.63383593 1.05544252 1.0690693  0.65811713\n",
      " 1.05296989 1.13664113 0.92809703 0.81895575]\n",
      "[0.12828178 1.42156981 0.67813026 0.41322385 1.10512892 0.12901701\n",
      " 0.45764103 0.85290901 0.80399589 0.26030202]\n"
     ]
    }
   ],
   "source": [
    "z = np.random.random((10, 2))\n",
    "x, y = z[:, 0], z[:, 1]\n",
    "r = np.sqrt(x**2+y**2)\n",
    "t = np.arctan2(y, x)\n",
    "print (r)\n",
    "print (t)"
   ]
  },
  {
   "cell_type": "markdown",
   "metadata": {},
   "source": [
    "### 45.创建一个长度为10的向量，并将向量中最大值替换为1"
   ]
  },
  {
   "cell_type": "code",
   "execution_count": 94,
   "metadata": {},
   "outputs": [
    {
     "name": "stdout",
     "output_type": "stream",
     "text": [
      "[0.7331995  0.         0.30629086 0.6697862  0.52748003 0.26426854\n",
      " 0.19062991 0.22530777 0.05388298 0.22751912]\n"
     ]
    }
   ],
   "source": [
    "z = np.random.random(10)\n",
    "z[z.argmax()]= 0\n",
    "print (z)"
   ]
  },
  {
   "cell_type": "markdown",
   "metadata": {},
   "source": [
    "### 46.创建一个结构化数组，并实现 x 和 y 坐标覆盖 [0,1]x[0,1] 区域?"
   ]
  },
  {
   "cell_type": "code",
   "execution_count": 96,
   "metadata": {},
   "outputs": [
    {
     "name": "stdout",
     "output_type": "stream",
     "text": [
      "[[(0.  , 0.  ) (0.25, 0.  ) (0.5 , 0.  ) (0.75, 0.  ) (1.  , 0.  )]\n",
      " [(0.  , 0.25) (0.25, 0.25) (0.5 , 0.25) (0.75, 0.25) (1.  , 0.25)]\n",
      " [(0.  , 0.5 ) (0.25, 0.5 ) (0.5 , 0.5 ) (0.75, 0.5 ) (1.  , 0.5 )]\n",
      " [(0.  , 0.75) (0.25, 0.75) (0.5 , 0.75) (0.75, 0.75) (1.  , 0.75)]\n",
      " [(0.  , 1.  ) (0.25, 1.  ) (0.5 , 1.  ) (0.75, 1.  ) (1.  , 1.  )]]\n"
     ]
    }
   ],
   "source": [
    "z = np.zeros((5, 5), [('x', float), ('y', float)])\n",
    "z['x'], z['y'] = np.meshgrid(np.linspace(0, 1, 5),\n",
    "                             np.linspace(0, 1, 5))\n",
    "print (z)"
   ]
  },
  {
   "cell_type": "markdown",
   "metadata": {},
   "source": [
    "### 47.给定两个数组X和Y，构造Cauchy矩阵C (Cij =1/(xi - yj))"
   ]
  },
  {
   "cell_type": "code",
   "execution_count": 98,
   "metadata": {},
   "outputs": [
    {
     "name": "stdout",
     "output_type": "stream",
     "text": [
      "3638.163637117973\n"
     ]
    }
   ],
   "source": [
    "x = np.arange(8)\n",
    "y = x + 0.5\n",
    "c = 1.0/np.subtract.outer(x, y)\n",
    "print (np.linalg.det(c))"
   ]
  },
  {
   "cell_type": "markdown",
   "metadata": {},
   "source": [
    "### 48.打印每个numpy标量类型的最小值和最大值？"
   ]
  },
  {
   "cell_type": "code",
   "execution_count": 100,
   "metadata": {},
   "outputs": [
    {
     "name": "stdout",
     "output_type": "stream",
     "text": [
      "-128\n",
      "127\n",
      "-2147483648\n",
      "2147483647\n",
      "-9223372036854775808\n",
      "9223372036854775807\n",
      "-3.4028235e+38\n",
      "3.4028235e+38\n",
      "1.1920929e-07\n",
      "-1.7976931348623157e+308\n",
      "1.7976931348623157e+308\n",
      "2.220446049250313e-16\n"
     ]
    }
   ],
   "source": [
    "for dtype in [np.int8, np.int32, np.int64]:\n",
    "    print (np.iinfo(dtype).min)\n",
    "    print (np.iinfo(dtype).max)\n",
    "\n",
    "for dtype in [np.float32, np.float64]:\n",
    "    print (np.finfo(dtype).min)\n",
    "    print (np.finfo(dtype).max)\n",
    "    print (np.finfo(dtype).eps)"
   ]
  },
  {
   "cell_type": "markdown",
   "metadata": {},
   "source": [
    "### 49.如何打印一个数组中的所有数值?"
   ]
  },
  {
   "cell_type": "code",
   "execution_count": 104,
   "metadata": {},
   "outputs": [
    {
     "name": "stdout",
     "output_type": "stream",
     "text": [
      "[[0. 0. 0. 0. 0. 0. 0. 0. 0. 0. 0. 0. 0. 0. 0. 0.]\n",
      " [0. 0. 0. 0. 0. 0. 0. 0. 0. 0. 0. 0. 0. 0. 0. 0.]\n",
      " [0. 0. 0. 0. 0. 0. 0. 0. 0. 0. 0. 0. 0. 0. 0. 0.]\n",
      " [0. 0. 0. 0. 0. 0. 0. 0. 0. 0. 0. 0. 0. 0. 0. 0.]\n",
      " [0. 0. 0. 0. 0. 0. 0. 0. 0. 0. 0. 0. 0. 0. 0. 0.]\n",
      " [0. 0. 0. 0. 0. 0. 0. 0. 0. 0. 0. 0. 0. 0. 0. 0.]\n",
      " [0. 0. 0. 0. 0. 0. 0. 0. 0. 0. 0. 0. 0. 0. 0. 0.]\n",
      " [0. 0. 0. 0. 0. 0. 0. 0. 0. 0. 0. 0. 0. 0. 0. 0.]\n",
      " [0. 0. 0. 0. 0. 0. 0. 0. 0. 0. 0. 0. 0. 0. 0. 0.]\n",
      " [0. 0. 0. 0. 0. 0. 0. 0. 0. 0. 0. 0. 0. 0. 0. 0.]\n",
      " [0. 0. 0. 0. 0. 0. 0. 0. 0. 0. 0. 0. 0. 0. 0. 0.]\n",
      " [0. 0. 0. 0. 0. 0. 0. 0. 0. 0. 0. 0. 0. 0. 0. 0.]\n",
      " [0. 0. 0. 0. 0. 0. 0. 0. 0. 0. 0. 0. 0. 0. 0. 0.]\n",
      " [0. 0. 0. 0. 0. 0. 0. 0. 0. 0. 0. 0. 0. 0. 0. 0.]\n",
      " [0. 0. 0. 0. 0. 0. 0. 0. 0. 0. 0. 0. 0. 0. 0. 0.]\n",
      " [0. 0. 0. 0. 0. 0. 0. 0. 0. 0. 0. 0. 0. 0. 0. 0.]]\n"
     ]
    }
   ],
   "source": [
    "np.set_printoptions()\n",
    "z = np.zeros((16, 16))\n",
    "print (z)"
   ]
  },
  {
   "cell_type": "markdown",
   "metadata": {},
   "source": [
    "### 50.给定标量时，如何找到数组中最接近标量的值？"
   ]
  },
  {
   "cell_type": "code",
   "execution_count": 106,
   "metadata": {},
   "outputs": [
    {
     "name": "stdout",
     "output_type": "stream",
     "text": [
      "71\n"
     ]
    }
   ],
   "source": [
    "z = np.arange(100)\n",
    "v = np.random.uniform(0, 100)\n",
    "index = (np.abs(z-v)).argmin()\n",
    "print (z[index])"
   ]
  },
  {
   "cell_type": "markdown",
   "metadata": {},
   "source": [
    "### 51.创建一个表示位置(x,y)和颜色(r,g,b)的结构化数组"
   ]
  },
  {
   "cell_type": "code",
   "execution_count": 108,
   "metadata": {},
   "outputs": [
    {
     "name": "stdout",
     "output_type": "stream",
     "text": [
      "[((0., 0.), (0., 0., 0.)) ((0., 0.), (0., 0., 0.))\n",
      " ((0., 0.), (0., 0., 0.)) ((0., 0.), (0., 0., 0.))\n",
      " ((0., 0.), (0., 0., 0.)) ((0., 0.), (0., 0., 0.))\n",
      " ((0., 0.), (0., 0., 0.)) ((0., 0.), (0., 0., 0.))\n",
      " ((0., 0.), (0., 0., 0.)) ((0., 0.), (0., 0., 0.))]\n"
     ]
    }
   ],
   "source": [
    " Z = np.zeros(10, [ ('position', [ ('x', float, 1),\n",
    "                                   ('y', float, 1)]),\n",
    "                    ('color',    [ ('r', float, 1),\n",
    "                                   ('g', float, 1),\n",
    "                                   ('b', float, 1)])])\n",
    " print (Z)"
   ]
  },
  {
   "cell_type": "markdown",
   "metadata": {},
   "source": [
    "### 52.对一个表示坐标形状为(100,2)的随机向量，找到点与点的距离"
   ]
  },
  {
   "cell_type": "code",
   "execution_count": 111,
   "metadata": {},
   "outputs": [
    {
     "name": "stdout",
     "output_type": "stream",
     "text": [
      "[[0.         0.60922452 0.19179783 ... 0.58416535 0.90574669 0.32310778]\n",
      " [0.60922452 0.         0.51404055 ... 0.35367363 0.30349617 0.29365618]\n",
      " [0.19179783 0.51404055 0.         ... 0.60346015 0.78771185 0.22647832]\n",
      " ...\n",
      " [0.58416535 0.35367363 0.60346015 ... 0.         0.5863167  0.41146918]\n",
      " [0.90574669 0.30349617 0.78771185 ... 0.5863167  0.         0.58360461]\n",
      " [0.32310778 0.29365618 0.22647832 ... 0.41146918 0.58360461 0.        ]]\n"
     ]
    }
   ],
   "source": [
    "z = np.random.random((100, 2))\n",
    "x, y = np.atleast_2d(z[:, 0], z[:, 1])\n",
    "d = np.sqrt((x-x.T)**2 + (y - y.T)**2)\n",
    "print (d)"
   ]
  },
  {
   "cell_type": "markdown",
   "metadata": {},
   "source": [
    "### 53.如何将32位的浮点数(float)转换为对应的整数(integer)?"
   ]
  },
  {
   "cell_type": "code",
   "execution_count": 113,
   "metadata": {},
   "outputs": [
    {
     "name": "stdout",
     "output_type": "stream",
     "text": [
      "[0. 1. 2. 3. 4. 5. 6. 7. 8. 9.]\n"
     ]
    }
   ],
   "source": [
    "z = np.arange(10, dtype=np.int32)\n",
    "z = z.astype(np.float32, copy=False)\n",
    "print (z)"
   ]
  },
  {
   "cell_type": "markdown",
   "metadata": {},
   "source": [
    "### 54.如何读取以下文件?"
   ]
  },
  {
   "cell_type": "code",
   "execution_count": 119,
   "metadata": {},
   "outputs": [
    {
     "data": {
      "text/plain": [
       "array([ 1.,  2.,  3.,  4.,  5.,  6., nan, nan,  7.,  8., nan, nan,  9.,\n",
       "       10., 11.])"
      ]
     },
     "execution_count": 119,
     "metadata": {},
     "output_type": "execute_result"
    }
   ],
   "source": [
    "from io import StringIO\n",
    "s = StringIO('1, 2, 3, 4, 5,\\\n",
    "6,  ,  , 7, 8,\\\n",
    " ,  , 9,10,11')\n",
    "data = np.genfromtxt(s, delimiter=',')\n",
    "data"
   ]
  },
  {
   "cell_type": "markdown",
   "metadata": {},
   "source": [
    "### 55.对于numpy数组，enumerate的等价操作是什么？"
   ]
  },
  {
   "cell_type": "code",
   "execution_count": 121,
   "metadata": {},
   "outputs": [
    {
     "name": "stdout",
     "output_type": "stream",
     "text": [
      "(0, 0) 0\n",
      "(0, 1) 1\n",
      "(0, 2) 2\n",
      "(1, 0) 3\n",
      "(1, 1) 4\n",
      "(1, 2) 5\n",
      "(2, 0) 6\n",
      "(2, 1) 7\n",
      "(2, 2) 8\n"
     ]
    }
   ],
   "source": [
    "z = np.arange(9).reshape(3, 3)\n",
    "for index, value in np.ndenumerate(z):\n",
    "    print (index, value)"
   ]
  },
  {
   "cell_type": "markdown",
   "metadata": {},
   "source": [
    "### 56.生成一个通用的二维Gaussian-like数组"
   ]
  },
  {
   "cell_type": "code",
   "execution_count": 123,
   "metadata": {},
   "outputs": [
    {
     "name": "stdout",
     "output_type": "stream",
     "text": [
      "[[0.36787944 0.44822088 0.51979489 0.57375342 0.60279818 0.60279818\n",
      "  0.57375342 0.51979489 0.44822088 0.36787944]\n",
      " [0.44822088 0.54610814 0.63331324 0.69905581 0.73444367 0.73444367\n",
      "  0.69905581 0.63331324 0.54610814 0.44822088]\n",
      " [0.51979489 0.63331324 0.73444367 0.81068432 0.85172308 0.85172308\n",
      "  0.81068432 0.73444367 0.63331324 0.51979489]\n",
      " [0.57375342 0.69905581 0.81068432 0.89483932 0.9401382  0.9401382\n",
      "  0.89483932 0.81068432 0.69905581 0.57375342]\n",
      " [0.60279818 0.73444367 0.85172308 0.9401382  0.98773022 0.98773022\n",
      "  0.9401382  0.85172308 0.73444367 0.60279818]\n",
      " [0.60279818 0.73444367 0.85172308 0.9401382  0.98773022 0.98773022\n",
      "  0.9401382  0.85172308 0.73444367 0.60279818]\n",
      " [0.57375342 0.69905581 0.81068432 0.89483932 0.9401382  0.9401382\n",
      "  0.89483932 0.81068432 0.69905581 0.57375342]\n",
      " [0.51979489 0.63331324 0.73444367 0.81068432 0.85172308 0.85172308\n",
      "  0.81068432 0.73444367 0.63331324 0.51979489]\n",
      " [0.44822088 0.54610814 0.63331324 0.69905581 0.73444367 0.73444367\n",
      "  0.69905581 0.63331324 0.54610814 0.44822088]\n",
      " [0.36787944 0.44822088 0.51979489 0.57375342 0.60279818 0.60279818\n",
      "  0.57375342 0.51979489 0.44822088 0.36787944]]\n"
     ]
    }
   ],
   "source": [
    "X, Y = np.meshgrid(np.linspace(-1,1,10), np.linspace(-1,1,10))\n",
    "D = np.sqrt(X*X+Y*Y)\n",
    "sigma, mu = 1.0, 0.0\n",
    "G = np.exp(-((D-mu)**2/(2.0*sigma**2)))\n",
    "print (G)"
   ]
  },
  {
   "cell_type": "markdown",
   "metadata": {},
   "source": [
    "### 57.对一个二维数组，如何在其内部随机放置p个元素?"
   ]
  },
  {
   "cell_type": "code",
   "execution_count": 125,
   "metadata": {},
   "outputs": [
    {
     "name": "stdout",
     "output_type": "stream",
     "text": [
      "[[0. 0. 0. 0. 0. 0. 0. 0. 0. 0.]\n",
      " [0. 0. 0. 0. 0. 0. 0. 0. 0. 0.]\n",
      " [0. 0. 0. 0. 0. 0. 0. 0. 0. 0.]\n",
      " [0. 0. 0. 0. 0. 0. 0. 0. 0. 0.]\n",
      " [1. 0. 0. 0. 0. 0. 0. 0. 0. 0.]\n",
      " [0. 0. 0. 0. 0. 0. 0. 0. 0. 0.]\n",
      " [0. 0. 0. 0. 0. 0. 0. 0. 0. 0.]\n",
      " [0. 0. 0. 0. 0. 0. 0. 0. 0. 0.]\n",
      " [0. 0. 0. 0. 0. 0. 0. 0. 0. 0.]\n",
      " [0. 0. 0. 0. 1. 0. 0. 0. 0. 1.]]\n"
     ]
    }
   ],
   "source": [
    "n = 10\n",
    "p = 3\n",
    "z = np.zeros((n, n))\n",
    "np.put(z, np.random.choice(range(n*n), p, replace=False), 1)\n",
    "print (z)"
   ]
  },
  {
   "cell_type": "markdown",
   "metadata": {},
   "source": [
    "### 58.减去一个矩阵中的每一行的平均值"
   ]
  },
  {
   "cell_type": "code",
   "execution_count": 127,
   "metadata": {},
   "outputs": [
    {
     "name": "stdout",
     "output_type": "stream",
     "text": [
      "[[ 0.02312048  0.21305223  0.40296488  0.13894884 -0.48279984 -0.04861342\n",
      "  -0.06887694 -0.36769515 -0.0850094   0.27490832]\n",
      " [-0.01423579  0.16919064 -0.36547737  0.14843317  0.08031741  0.51882491\n",
      "  -0.15054414 -0.36390961 -0.33888657  0.31628735]\n",
      " [ 0.13541975  0.13677348  0.36164443  0.01832611 -0.04142444 -0.30876532\n",
      "  -0.18873324  0.3114785  -0.46501024  0.04029097]\n",
      " [-0.39846016  0.47419689 -0.09099618  0.16866576  0.16552555  0.096927\n",
      "   0.09095178 -0.30436963 -0.27377779  0.07133677]\n",
      " [ 0.03895306  0.15226721  0.4084355  -0.22291873 -0.22686615  0.3796636\n",
      "  -0.18025312 -0.19420935  0.11885471 -0.27392674]]\n"
     ]
    }
   ],
   "source": [
    "x = np.random.rand(5, 10)\n",
    "y = x - x.mean(axis=1, keepdims=True)\n",
    "print (y)"
   ]
  },
  {
   "cell_type": "markdown",
   "metadata": {},
   "source": [
    "### 59.如何通过第n列对一个数组进行排序?"
   ]
  },
  {
   "cell_type": "code",
   "execution_count": 129,
   "metadata": {},
   "outputs": [
    {
     "name": "stdout",
     "output_type": "stream",
     "text": [
      "[[7 7 7]\n",
      " [5 2 4]\n",
      " [0 0 7]]\n",
      "[[0 0 7]\n",
      " [5 2 4]\n",
      " [7 7 7]]\n"
     ]
    }
   ],
   "source": [
    "z = np.random.randint(0, 10, (3, 3))\n",
    "print (z)\n",
    "print (z[z[:, 1].argsort()])"
   ]
  },
  {
   "cell_type": "markdown",
   "metadata": {},
   "source": [
    "### 60.如何检查一个二维数组是否有空列？"
   ]
  },
  {
   "cell_type": "code",
   "execution_count": 131,
   "metadata": {},
   "outputs": [
    {
     "name": "stdout",
     "output_type": "stream",
     "text": [
      "False\n"
     ]
    }
   ],
   "source": [
    "z = np.random.randint(0, 3, (3, 10))\n",
    "print ((~z.any(axis=0)).any())"
   ]
  },
  {
   "cell_type": "markdown",
   "metadata": {},
   "source": [
    "### 61.从数组中的给定值中找出最近的值  "
   ]
  },
  {
   "cell_type": "code",
   "execution_count": 134,
   "metadata": {},
   "outputs": [
    {
     "name": "stdout",
     "output_type": "stream",
     "text": [
      "0.5029050757570738\n"
     ]
    }
   ],
   "source": [
    "Z = np.random.uniform(0, 1, 10)\n",
    "z = 0.5\n",
    "m = Z.flat[np.abs(Z-z).argmin()]\n",
    "print (m)"
   ]
  },
  {
   "cell_type": "markdown",
   "metadata": {},
   "source": [
    "### 62.如何用迭代器(iterator)计算两个分别具有形状(1,3)和(3,1)的数组? "
   ]
  },
  {
   "cell_type": "code",
   "execution_count": 136,
   "metadata": {},
   "outputs": [
    {
     "name": "stdout",
     "output_type": "stream",
     "text": [
      "[[0 1 2]\n",
      " [1 2 3]\n",
      " [2 3 4]]\n"
     ]
    }
   ],
   "source": [
    "A = np.arange(3).reshape(3, 1)\n",
    "B = np.arange(3).reshape(1, 3)\n",
    "it = np.nditer([A, B, None])\n",
    "for x, y, z in it:\n",
    "    z[...] = x + y\n",
    "print (it.operands[2])"
   ]
  },
  {
   "cell_type": "markdown",
   "metadata": {},
   "source": [
    "### 63.创建一个具有name属性的数组类"
   ]
  },
  {
   "cell_type": "code",
   "execution_count": 138,
   "metadata": {},
   "outputs": [
    {
     "name": "stdout",
     "output_type": "stream",
     "text": [
      "range_10\n"
     ]
    }
   ],
   "source": [
    "class NamedArray(np.ndarray):\n",
    "    def __new__(cls, array, name=\"no name\"):\n",
    "        obj = np.asarray(array).view(cls)\n",
    "        obj.name = name\n",
    "        return obj\n",
    "    def __array_finalize__(self, obj):\n",
    "        if obj is None: return\n",
    "        self.info = getattr(obj, 'name', \"no name\")\n",
    "z = NamedArray(np.arange(10), \"range_10\")\n",
    "print (z.name)"
   ]
  },
  {
   "cell_type": "markdown",
   "metadata": {},
   "source": [
    "### 64. 考虑一个给定的向量，如何对由第二个向量索引的每个元素加1(小心重复的索引)?"
   ]
  },
  {
   "cell_type": "code",
   "execution_count": 140,
   "metadata": {},
   "outputs": [
    {
     "name": "stdout",
     "output_type": "stream",
     "text": [
      "[4. 1. 2. 4. 5. 2. 3. 2. 4. 3.]\n"
     ]
    }
   ],
   "source": [
    "z = np.ones(10)\n",
    "i = np.random.randint(0, len(z), 20)\n",
    "z += np.bincount(i, minlength=len(z))\n",
    "print (z)"
   ]
  },
  {
   "cell_type": "markdown",
   "metadata": {},
   "source": [
    "### 65.根据索引列表(I)，如何将向量(X)的元素累加到数组(F)? "
   ]
  },
  {
   "cell_type": "code",
   "execution_count": 142,
   "metadata": {},
   "outputs": [
    {
     "name": "stdout",
     "output_type": "stream",
     "text": [
      "[0. 7. 0. 6. 5. 0. 0. 0. 0. 3.]\n"
     ]
    }
   ],
   "source": [
    "x = [1, 2, 3, 4, 5, 6]\n",
    "i = [1, 3, 9, 3, 4, 1]\n",
    "f = np.bincount(i, x)\n",
    "print (f)"
   ]
  },
  {
   "cell_type": "markdown",
   "metadata": {},
   "source": [
    "### 66.考虑一个(dtype=ubyte) 的 (w,h,3)图像，计算其唯一颜色的数量"
   ]
  },
  {
   "cell_type": "code",
   "execution_count": 144,
   "metadata": {},
   "outputs": [
    {
     "name": "stdout",
     "output_type": "stream",
     "text": [
      "8\n"
     ]
    }
   ],
   "source": [
    " w,h = 16,16\n",
    " I = np.random.randint(0,2,(h,w,3)).astype(np.ubyte)\n",
    " #Note that we should compute 256*256 first. \n",
    " #Otherwise numpy will only promote F.dtype to 'uint16' and overfolw will occur\n",
    " F = I[...,0]*(256*256) + I[...,1]*256 +I[...,2]\n",
    " n = len(np.unique(F))\n",
    " print (n)"
   ]
  },
  {
   "cell_type": "markdown",
   "metadata": {},
   "source": [
    "### 67. 考虑一个四维数组，如何一次性计算出最后两个轴(axis)的和？ "
   ]
  },
  {
   "cell_type": "code",
   "execution_count": 146,
   "metadata": {},
   "outputs": [
    {
     "name": "stdout",
     "output_type": "stream",
     "text": [
      "[[54 43 60 49]\n",
      " [57 42 59 67]\n",
      " [60 56 37 49]]\n"
     ]
    }
   ],
   "source": [
    "A = np.random.randint(0, 10, (3, 4, 3, 4))\n",
    "mysum = A.sum(axis=(-2, -1))\n",
    "print (mysum)"
   ]
  },
  {
   "cell_type": "markdown",
   "metadata": {},
   "source": [
    "### 68. 考虑一个一维向量D，如何使用相同大小的向量S来计算D子集的均值？"
   ]
  },
  {
   "cell_type": "code",
   "execution_count": 148,
   "metadata": {},
   "outputs": [
    {
     "name": "stdout",
     "output_type": "stream",
     "text": [
      "[0.37013684 0.54409314 0.49415909 0.37031053 0.50829727 0.34989604\n",
      " 0.41744162 0.53268426 0.45840588 0.70989058]\n"
     ]
    }
   ],
   "source": [
    "D = np.random.uniform(0, 1, 100)\n",
    "S = np.random.randint(0, 10, 100)\n",
    "D_sums = np.bincount(S, weights=D)\n",
    "D_counts = np.bincount(S)\n",
    "D_means = D_sums/D_counts\n",
    "print (D_means)"
   ]
  },
  {
   "cell_type": "markdown",
   "metadata": {},
   "source": [
    "### 69. 如何获得点积dot product的对角线？"
   ]
  },
  {
   "cell_type": "code",
   "execution_count": 149,
   "metadata": {},
   "outputs": [
    {
     "data": {
      "text/plain": [
       "array([0.83282198, 0.74891386, 0.35774325, 0.65112362, 0.92946907])"
      ]
     },
     "execution_count": 149,
     "metadata": {},
     "output_type": "execute_result"
    }
   ],
   "source": [
    "A = np.random.uniform(0, 1, (5, 5))\n",
    "B = np.random.uniform(0, 1, (5, 5))\n",
    "np.sum(A * B.T, axis=1)"
   ]
  },
  {
   "cell_type": "markdown",
   "metadata": {},
   "source": [
    "### 70.考虑一个向量[1,2,3,4,5],如何建立一个新的向量，在这个新向量中每个值之间有3个连续的零？"
   ]
  },
  {
   "cell_type": "code",
   "execution_count": 151,
   "metadata": {},
   "outputs": [
    {
     "name": "stdout",
     "output_type": "stream",
     "text": [
      "[1. 0. 0. 0. 2. 0. 0. 0. 3. 0. 0. 0. 4. 0. 0. 0. 5.]\n"
     ]
    }
   ],
   "source": [
    "Z = np.array([1, 2, 3, 4, 5])\n",
    "nz = 3\n",
    "Z0 = np.zeros(len(Z) + (len(Z)-1)*(nz))\n",
    "Z0[::nz+1] = Z\n",
    "print (Z0)"
   ]
  },
  {
   "cell_type": "markdown",
   "metadata": {},
   "source": [
    "### 71.考虑一个维度(5,5,3)的数组，如何将其与一个(5,5)的数组相乘？ "
   ]
  },
  {
   "cell_type": "code",
   "execution_count": 153,
   "metadata": {},
   "outputs": [
    {
     "name": "stdout",
     "output_type": "stream",
     "text": [
      "[[[2. 2. 2.]\n",
      "  [2. 2. 2.]\n",
      "  [2. 2. 2.]\n",
      "  [2. 2. 2.]\n",
      "  [2. 2. 2.]]\n",
      "\n",
      " [[2. 2. 2.]\n",
      "  [2. 2. 2.]\n",
      "  [2. 2. 2.]\n",
      "  [2. 2. 2.]\n",
      "  [2. 2. 2.]]\n",
      "\n",
      " [[2. 2. 2.]\n",
      "  [2. 2. 2.]\n",
      "  [2. 2. 2.]\n",
      "  [2. 2. 2.]\n",
      "  [2. 2. 2.]]\n",
      "\n",
      " [[2. 2. 2.]\n",
      "  [2. 2. 2.]\n",
      "  [2. 2. 2.]\n",
      "  [2. 2. 2.]\n",
      "  [2. 2. 2.]]\n",
      "\n",
      " [[2. 2. 2.]\n",
      "  [2. 2. 2.]\n",
      "  [2. 2. 2.]\n",
      "  [2. 2. 2.]\n",
      "  [2. 2. 2.]]]\n"
     ]
    }
   ],
   "source": [
    "A = np.ones((5, 5, 3))\n",
    "B = 2 * np.ones((5, 5))\n",
    "print (A * B[:, :, None])"
   ]
  },
  {
   "cell_type": "markdown",
   "metadata": {},
   "source": [
    "### 72.  如何对一个数组中任意两行做交换? "
   ]
  },
  {
   "cell_type": "code",
   "execution_count": 157,
   "metadata": {},
   "outputs": [
    {
     "name": "stdout",
     "output_type": "stream",
     "text": [
      "[[ 5  6  7  8  9]\n",
      " [ 0  1  2  3  4]\n",
      " [10 11 12 13 14]\n",
      " [15 16 17 18 19]\n",
      " [20 21 22 23 24]]\n"
     ]
    }
   ],
   "source": [
    "import numpy as np\n",
    "A = np.arange(25).reshape(5, 5)\n",
    "A[[0, 1]] = A[[1, 0]]\n",
    "print (A)"
   ]
  },
  {
   "cell_type": "markdown",
   "metadata": {},
   "source": [
    "### 73.考虑一个可以描述10个三角形的triplets，找到可以分割全部三角形的line segment"
   ]
  },
  {
   "cell_type": "code",
   "execution_count": 158,
   "metadata": {},
   "outputs": [
    {
     "name": "stdout",
     "output_type": "stream",
     "text": [
      "[( 2, 23) ( 2, 39) ( 2, 87) ( 2, 90) ( 5, 22) ( 5, 23) ( 5, 60) ( 5, 70)\n",
      " ( 8, 13) ( 8, 76) (11, 29) (11, 80) (13, 76) (22, 60) (23, 70) (23, 87)\n",
      " (29, 80) (31, 38) (31, 82) (38, 82) (39, 90) (43, 64) (43, 91) (52, 74)\n",
      " (52, 88) (63, 75) (63, 95) (64, 91) (74, 88) (75, 95)]\n"
     ]
    }
   ],
   "source": [
    "faces = np.random.randint(0, 100, (10, 3))\n",
    "F = np.roll(faces.repeat(2, axis=1), -1, axis=1)\n",
    "F = F.reshape(len(F)*3, 2)\n",
    "F = np.sort(F, axis=1)\n",
    "G = F.view(dtype=[('p0', F.dtype), ('p1', F.dtype)])\n",
    "G = np.unique(G)\n",
    "print (G)"
   ]
  },
  {
   "cell_type": "markdown",
   "metadata": {},
   "source": [
    "### 74.给定一个二进制的数组C，如何产生一个数组A满足np.bincount(A)==C"
   ]
  },
  {
   "cell_type": "code",
   "execution_count": 160,
   "metadata": {},
   "outputs": [
    {
     "name": "stdout",
     "output_type": "stream",
     "text": [
      "[1 1 2 3 4 4 6]\n"
     ]
    }
   ],
   "source": [
    "C = np.bincount([1, 1, 2, 3, 4, 4, 6])\n",
    "A = np.repeat(np.arange(len(C)), C)\n",
    "print (A)"
   ]
  },
  {
   "cell_type": "markdown",
   "metadata": {},
   "source": [
    "### 75. 如何通过滑动窗口计算一个数组的平均数?"
   ]
  },
  {
   "cell_type": "code",
   "execution_count": 162,
   "metadata": {},
   "outputs": [
    {
     "name": "stdout",
     "output_type": "stream",
     "text": [
      "[ 1.  2.  3.  4.  5.  6.  7.  8.  9. 10. 11. 12. 13. 14. 15. 16. 17. 18.]\n"
     ]
    }
   ],
   "source": [
    "def moving_average(a, n = 3):\n",
    "    ret = np.cumsum(a, dtype=float)\n",
    "    ret[n:] = ret[n:] - ret[:-n]\n",
    "    return ret[n - 1:]/n\n",
    "z = np.arange(20)\n",
    "print (moving_average(z, n=3))"
   ]
  },
  {
   "cell_type": "markdown",
   "metadata": {},
   "source": [
    "### 76.Consider a one-dimensional array Z, build a two-dimensional array whose first row is (Z[0],Z[1],Z[2]) and each subsequent row is shifted by 1 (last row should be (Z[-3],Z[-2],Z[-1])"
   ]
  },
  {
   "cell_type": "code",
   "execution_count": 165,
   "metadata": {},
   "outputs": [
    {
     "name": "stdout",
     "output_type": "stream",
     "text": [
      "[[0 1 2]\n",
      " [1 2 3]\n",
      " [2 3 4]\n",
      " [3 4 5]\n",
      " [4 5 6]\n",
      " [5 6 7]\n",
      " [6 7 8]\n",
      " [7 8 9]]\n"
     ]
    }
   ],
   "source": [
    "from numpy.lib import stride_tricks\n",
    "\n",
    "def rolling(a, window):\n",
    "    shape = (a.size - window + 1, window)\n",
    "    strides = (a.itemsize, a.itemsize)\n",
    "    return stride_tricks.as_strided(a, shape=shape, strides=strides)\n",
    "z = rolling(np.arange(10), 3)\n",
    "print (z)"
   ]
  },
  {
   "cell_type": "markdown",
   "metadata": {},
   "source": [
    "### 77. 如何对布尔值取反，或者原位(in-place)改变浮点数的符号(sign)？"
   ]
  },
  {
   "cell_type": "code",
   "execution_count": 167,
   "metadata": {},
   "outputs": [
    {
     "data": {
      "text/plain": [
       "array([-1, -1, -1, -1,  0,  0,  0,  0, -1, -1, -1,  0,  0,  0, -1, -1,  0,\n",
       "       -1, -1, -1, -1, -1, -1, -1,  0,  0, -1, -1,  0, -1,  0,  0,  0,  0,\n",
       "       -1, -1, -1, -1, -1, -1,  0,  0, -1,  0,  0, -1,  0,  0,  0, -1, -1,\n",
       "       -1,  0,  0, -1,  0,  0,  0,  0, -1,  0,  0,  0,  0, -1, -1, -1, -1,\n",
       "        0,  0, -1,  0,  0, -1,  0, -1,  0, -1, -1, -1,  0, -1,  0, -1,  0,\n",
       "       -1, -1,  0, -1, -1,  0,  0,  0,  0,  0, -1,  0,  0, -1,  0])"
      ]
     },
     "execution_count": 167,
     "metadata": {},
     "output_type": "execute_result"
    }
   ],
   "source": [
    "z = np.random.randint(0, 2, 100)\n",
    "np.negative(z, out=z)"
   ]
  },
  {
   "cell_type": "markdown",
   "metadata": {},
   "source": [
    "### 78.考虑两组点集P0和P1去描述一组线(二维)和一个点p,如何计算点p到每一条线 i (P0[i],P1[i])的距离？"
   ]
  },
  {
   "cell_type": "code",
   "execution_count": 171,
   "metadata": {},
   "outputs": [
    {
     "name": "stdout",
     "output_type": "stream",
     "text": [
      "[2.99388387 6.1292126  6.40807323 1.68217059 3.65877054 7.87804216\n",
      " 7.8560661  1.62522062 4.17557557 9.75545815]\n"
     ]
    }
   ],
   "source": [
    "def distance(P0, P1, p):\n",
    "    T = P1 - P0\n",
    "    L = (T**2).sum(axis=1)\n",
    "    U = -((P0[:,0]-p[...,0])*T[:,0] + (P0[:,1]-p[...,1])*T[:,1]) / L\n",
    "    U = U.reshape(len(U),1)\n",
    "    D = P0 + U*T - p\n",
    "    return np.sqrt((D**2).sum(axis=1))\n",
    "\n",
    "P0 = np.random.uniform(-10, 10, (10, 2))\n",
    "P1 = np.random.uniform(-10, 10, (10, 2))\n",
    "p = np.random.uniform(-10, 10, (1, 2))\n",
    "print (distance(P0, P1, p))"
   ]
  },
  {
   "cell_type": "markdown",
   "metadata": {},
   "source": [
    "### 79.考虑两组点集P0和P1去描述一组线(二维)和一组点集P，如何计算每一个点 j(P[j]) 到每一条线 i (P0[i],P1[i])的距离？"
   ]
  },
  {
   "cell_type": "code",
   "execution_count": 173,
   "metadata": {},
   "outputs": [
    {
     "name": "stdout",
     "output_type": "stream",
     "text": [
      "[[ 6.57473038  3.36344841  3.59481072  1.83561736 11.89483886  3.45682078\n",
      "   4.90921417  4.55510584  6.78582378  1.24372269]\n",
      " [ 4.63993444  1.38517267  5.97937182  2.68112174 13.63122099  5.19420049\n",
      "   2.35321247  2.77283669  4.77693459  3.64751767]\n",
      " [ 0.79734364  4.11801939 10.73039536  3.04484063 16.33699975 10.3137392\n",
      "   3.62138254  0.06340824  0.77162122  9.65356653]\n",
      " [ 4.11445544  7.28503392  7.03373388  3.53857368 10.63612409 14.23865487\n",
      "   3.17968841  5.55276183  3.82878211 10.78393765]\n",
      " [10.2573893   7.0127225   3.08099628  4.37949891 13.07642555  0.33931501\n",
      "   7.28025747  3.46397974 10.40943487  1.78531528]\n",
      " [ 0.4507698   2.5947957   0.63028732  6.33532055  5.67295887 10.23368437\n",
      "   3.33274685 10.62359695  0.94989225  4.81358743]\n",
      " [ 3.37878845  6.48866067  4.59621815  5.43968438  8.26947492 13.76412688\n",
      "   1.25925147  7.93567195  2.98884603  9.28182256]\n",
      " [10.08158404  6.7994445   4.45936202  5.65504323 14.52914339  0.32265362\n",
      "   6.32817315  2.00799288 10.16915027  1.12059184]\n",
      " [10.97429973  8.15357306 11.93576877 10.51743872  3.32127787  0.73483814\n",
      "  16.98486763 19.86773036 11.85635011  8.10574244]\n",
      " [ 6.85398537  9.84932596  2.20379374 10.80925388  3.94712719 17.6961477\n",
      "   1.71383149 12.1704248   6.26529352 11.03481293]]\n"
     ]
    }
   ],
   "source": [
    "P0 = np.random.uniform(-10, 10, (10, 2))\n",
    "P1 = np.random.uniform(-10, 10, (10, 2))\n",
    "p  = np.random.uniform(-10, 10, (10, 2))\n",
    "print (np.array([distance(P0, P1, p_i) for p_i in p]))"
   ]
  },
  {
   "cell_type": "markdown",
   "metadata": {},
   "source": [
    "### 80.Consider an arbitrary array, write a function that extract a subpart with a fixed shape and centered on a given element (pad with a fill value when necessary)"
   ]
  },
  {
   "cell_type": "code",
   "execution_count": 175,
   "metadata": {},
   "outputs": [
    {
     "name": "stdout",
     "output_type": "stream",
     "text": [
      "[[1 0 4 0 5 1 5 5 7 6]\n",
      " [2 0 1 6 0 0 1 0 9 2]\n",
      " [9 0 7 0 8 0 5 5 7 7]\n",
      " [0 2 9 1 8 8 6 5 5 1]\n",
      " [9 4 5 0 3 8 2 5 4 0]\n",
      " [0 7 3 3 9 7 1 3 1 2]\n",
      " [6 1 9 3 5 4 4 6 4 6]\n",
      " [8 0 2 4 3 8 5 8 1 1]\n",
      " [8 7 2 4 0 2 2 5 4 9]\n",
      " [0 7 0 9 1 9 7 7 4 1]]\n",
      "[[0 0 0 0 0]\n",
      " [0 1 0 4 0]\n",
      " [0 2 0 1 6]\n",
      " [0 9 0 7 0]\n",
      " [0 0 2 9 1]]\n"
     ]
    },
    {
     "name": "stderr",
     "output_type": "stream",
     "text": [
      "C:\\Users\\wd\\Anaconda3\\lib\\site-packages\\ipykernel_launcher.py:23: FutureWarning: Using a non-tuple sequence for multidimensional indexing is deprecated; use `arr[tuple(seq)]` instead of `arr[seq]`. In the future this will be interpreted as an array index, `arr[np.array(seq)]`, which will result either in an error or a different result.\n"
     ]
    }
   ],
   "source": [
    " Z = np.random.randint(0,10,(10,10))\n",
    " shape = (5,5)\n",
    " fill  = 0\n",
    " position = (1,1)\n",
    "\n",
    " R = np.ones(shape, dtype=Z.dtype)*fill\n",
    " P  = np.array(list(position)).astype(int)\n",
    " Rs = np.array(list(R.shape)).astype(int)\n",
    " Zs = np.array(list(Z.shape)).astype(int)\n",
    "\n",
    " R_start = np.zeros((len(shape),)).astype(int)\n",
    " R_stop  = np.array(list(shape)).astype(int)\n",
    " Z_start = (P-Rs//2)\n",
    " Z_stop  = (P+Rs//2)+Rs%2\n",
    "\n",
    " R_start = (R_start - np.minimum(Z_start,0)).tolist()\n",
    " Z_start = (np.maximum(Z_start,0)).tolist()\n",
    " R_stop = np.maximum(R_start, (R_stop - np.maximum(Z_stop-Zs,0))).tolist()\n",
    " Z_stop = (np.minimum(Z_stop,Zs)).tolist()\n",
    "\n",
    " r = [slice(start,stop) for start,stop in zip(R_start,R_stop)]\n",
    " z = [slice(start,stop) for start,stop in zip(Z_start,Z_stop)]\n",
    " R[r] = Z[z]\n",
    " print (Z)\n",
    " print (R)"
   ]
  },
  {
   "cell_type": "markdown",
   "metadata": {},
   "source": [
    "### 81.考虑一个数组Z = [1,2,3,4,5,6,7,8,9,10,11,12,13,14],如何生成一个数组R = [[1,2,3,4], [2,3,4,5], [3,4,5,6], ...,[11,12,13,14]]? "
   ]
  },
  {
   "cell_type": "code",
   "execution_count": 177,
   "metadata": {},
   "outputs": [
    {
     "name": "stdout",
     "output_type": "stream",
     "text": [
      "[[ 1  2  3  4]\n",
      " [ 2  3  4  5]\n",
      " [ 3  4  5  6]\n",
      " [ 4  5  6  7]\n",
      " [ 5  6  7  8]\n",
      " [ 6  7  8  9]\n",
      " [ 7  8  9 10]\n",
      " [ 8  9 10 11]\n",
      " [ 9 10 11 12]\n",
      " [10 11 12 13]\n",
      " [11 12 13 14]]\n"
     ]
    }
   ],
   "source": [
    "z = np.arange(1, 15, dtype=np.uint32)\n",
    "r = stride_tricks.as_strided(z, (11, 4), (4, 4))\n",
    "print (r)"
   ]
  },
  {
   "cell_type": "markdown",
   "metadata": {},
   "source": [
    "### 82. 计算一个矩阵的秩"
   ]
  },
  {
   "cell_type": "code",
   "execution_count": 178,
   "metadata": {},
   "outputs": [
    {
     "name": "stdout",
     "output_type": "stream",
     "text": [
      "10\n"
     ]
    }
   ],
   "source": [
    "z = np.random.uniform(0, 1, (10, 10))\n",
    "u, s, v = np.linalg.svd(z)\n",
    "rank = np.sum(s > 1e-10)\n",
    "print (rank)"
   ]
  },
  {
   "cell_type": "markdown",
   "metadata": {},
   "source": [
    "### 83.如何找到一个数组中出现频率最高的值？"
   ]
  },
  {
   "cell_type": "code",
   "execution_count": 179,
   "metadata": {},
   "outputs": [
    {
     "name": "stdout",
     "output_type": "stream",
     "text": [
      "4\n"
     ]
    }
   ],
   "source": [
    "z = np.random.randint(0, 10, 50)\n",
    "print (np.bincount(z).argmax())"
   ]
  },
  {
   "cell_type": "markdown",
   "metadata": {},
   "source": [
    "### 84.从一个10x10的矩阵中提取出连续的3x3区块"
   ]
  },
  {
   "cell_type": "code",
   "execution_count": 182,
   "metadata": {},
   "outputs": [
    {
     "name": "stdout",
     "output_type": "stream",
     "text": [
      "[[[[1 2 0]\n",
      "   [1 0 0]\n",
      "   [4 4 3]]\n",
      "\n",
      "  [[2 0 2]\n",
      "   [0 0 1]\n",
      "   [4 3 4]]\n",
      "\n",
      "  [[0 2 0]\n",
      "   [0 1 2]\n",
      "   [3 4 3]]\n",
      "\n",
      "  [[2 0 2]\n",
      "   [1 2 2]\n",
      "   [4 3 0]]\n",
      "\n",
      "  [[0 2 0]\n",
      "   [2 2 0]\n",
      "   [3 0 3]]\n",
      "\n",
      "  [[2 0 2]\n",
      "   [2 0 2]\n",
      "   [0 3 4]]\n",
      "\n",
      "  [[0 2 1]\n",
      "   [0 2 2]\n",
      "   [3 4 0]]\n",
      "\n",
      "  [[2 1 2]\n",
      "   [2 2 3]\n",
      "   [4 0 1]]]\n",
      "\n",
      "\n",
      " [[[1 0 0]\n",
      "   [4 4 3]\n",
      "   [2 4 2]]\n",
      "\n",
      "  [[0 0 1]\n",
      "   [4 3 4]\n",
      "   [4 2 0]]\n",
      "\n",
      "  [[0 1 2]\n",
      "   [3 4 3]\n",
      "   [2 0 2]]\n",
      "\n",
      "  [[1 2 2]\n",
      "   [4 3 0]\n",
      "   [0 2 3]]\n",
      "\n",
      "  [[2 2 0]\n",
      "   [3 0 3]\n",
      "   [2 3 2]]\n",
      "\n",
      "  [[2 0 2]\n",
      "   [0 3 4]\n",
      "   [3 2 0]]\n",
      "\n",
      "  [[0 2 2]\n",
      "   [3 4 0]\n",
      "   [2 0 1]]\n",
      "\n",
      "  [[2 2 3]\n",
      "   [4 0 1]\n",
      "   [0 1 4]]]\n",
      "\n",
      "\n",
      " [[[4 4 3]\n",
      "   [2 4 2]\n",
      "   [1 3 0]]\n",
      "\n",
      "  [[4 3 4]\n",
      "   [4 2 0]\n",
      "   [3 0 1]]\n",
      "\n",
      "  [[3 4 3]\n",
      "   [2 0 2]\n",
      "   [0 1 4]]\n",
      "\n",
      "  [[4 3 0]\n",
      "   [0 2 3]\n",
      "   [1 4 4]]\n",
      "\n",
      "  [[3 0 3]\n",
      "   [2 3 2]\n",
      "   [4 4 4]]\n",
      "\n",
      "  [[0 3 4]\n",
      "   [3 2 0]\n",
      "   [4 4 3]]\n",
      "\n",
      "  [[3 4 0]\n",
      "   [2 0 1]\n",
      "   [4 3 4]]\n",
      "\n",
      "  [[4 0 1]\n",
      "   [0 1 4]\n",
      "   [3 4 3]]]\n",
      "\n",
      "\n",
      " [[[2 4 2]\n",
      "   [1 3 0]\n",
      "   [1 4 0]]\n",
      "\n",
      "  [[4 2 0]\n",
      "   [3 0 1]\n",
      "   [4 0 3]]\n",
      "\n",
      "  [[2 0 2]\n",
      "   [0 1 4]\n",
      "   [0 3 0]]\n",
      "\n",
      "  [[0 2 3]\n",
      "   [1 4 4]\n",
      "   [3 0 4]]\n",
      "\n",
      "  [[2 3 2]\n",
      "   [4 4 4]\n",
      "   [0 4 4]]\n",
      "\n",
      "  [[3 2 0]\n",
      "   [4 4 3]\n",
      "   [4 4 4]]\n",
      "\n",
      "  [[2 0 1]\n",
      "   [4 3 4]\n",
      "   [4 4 0]]\n",
      "\n",
      "  [[0 1 4]\n",
      "   [3 4 3]\n",
      "   [4 0 3]]]\n",
      "\n",
      "\n",
      " [[[1 3 0]\n",
      "   [1 4 0]\n",
      "   [2 2 2]]\n",
      "\n",
      "  [[3 0 1]\n",
      "   [4 0 3]\n",
      "   [2 2 1]]\n",
      "\n",
      "  [[0 1 4]\n",
      "   [0 3 0]\n",
      "   [2 1 4]]\n",
      "\n",
      "  [[1 4 4]\n",
      "   [3 0 4]\n",
      "   [1 4 1]]\n",
      "\n",
      "  [[4 4 4]\n",
      "   [0 4 4]\n",
      "   [4 1 2]]\n",
      "\n",
      "  [[4 4 3]\n",
      "   [4 4 4]\n",
      "   [1 2 2]]\n",
      "\n",
      "  [[4 3 4]\n",
      "   [4 4 0]\n",
      "   [2 2 3]]\n",
      "\n",
      "  [[3 4 3]\n",
      "   [4 0 3]\n",
      "   [2 3 2]]]\n",
      "\n",
      "\n",
      " [[[1 4 0]\n",
      "   [2 2 2]\n",
      "   [2 4 2]]\n",
      "\n",
      "  [[4 0 3]\n",
      "   [2 2 1]\n",
      "   [4 2 4]]\n",
      "\n",
      "  [[0 3 0]\n",
      "   [2 1 4]\n",
      "   [2 4 4]]\n",
      "\n",
      "  [[3 0 4]\n",
      "   [1 4 1]\n",
      "   [4 4 1]]\n",
      "\n",
      "  [[0 4 4]\n",
      "   [4 1 2]\n",
      "   [4 1 0]]\n",
      "\n",
      "  [[4 4 4]\n",
      "   [1 2 2]\n",
      "   [1 0 1]]\n",
      "\n",
      "  [[4 4 0]\n",
      "   [2 2 3]\n",
      "   [0 1 2]]\n",
      "\n",
      "  [[4 0 3]\n",
      "   [2 3 2]\n",
      "   [1 2 0]]]\n",
      "\n",
      "\n",
      " [[[2 2 2]\n",
      "   [2 4 2]\n",
      "   [3 4 3]]\n",
      "\n",
      "  [[2 2 1]\n",
      "   [4 2 4]\n",
      "   [4 3 4]]\n",
      "\n",
      "  [[2 1 4]\n",
      "   [2 4 4]\n",
      "   [3 4 4]]\n",
      "\n",
      "  [[1 4 1]\n",
      "   [4 4 1]\n",
      "   [4 4 3]]\n",
      "\n",
      "  [[4 1 2]\n",
      "   [4 1 0]\n",
      "   [4 3 0]]\n",
      "\n",
      "  [[1 2 2]\n",
      "   [1 0 1]\n",
      "   [3 0 1]]\n",
      "\n",
      "  [[2 2 3]\n",
      "   [0 1 2]\n",
      "   [0 1 0]]\n",
      "\n",
      "  [[2 3 2]\n",
      "   [1 2 0]\n",
      "   [1 0 2]]]\n",
      "\n",
      "\n",
      " [[[2 4 2]\n",
      "   [3 4 3]\n",
      "   [1 2 2]]\n",
      "\n",
      "  [[4 2 4]\n",
      "   [4 3 4]\n",
      "   [2 2 4]]\n",
      "\n",
      "  [[2 4 4]\n",
      "   [3 4 4]\n",
      "   [2 4 3]]\n",
      "\n",
      "  [[4 4 1]\n",
      "   [4 4 3]\n",
      "   [4 3 4]]\n",
      "\n",
      "  [[4 1 0]\n",
      "   [4 3 0]\n",
      "   [3 4 1]]\n",
      "\n",
      "  [[1 0 1]\n",
      "   [3 0 1]\n",
      "   [4 1 4]]\n",
      "\n",
      "  [[0 1 2]\n",
      "   [0 1 0]\n",
      "   [1 4 2]]\n",
      "\n",
      "  [[1 2 0]\n",
      "   [1 0 2]\n",
      "   [4 2 4]]]]\n"
     ]
    }
   ],
   "source": [
    "z = np.random.randint(0, 5, (10, 10))\n",
    "n = 3\n",
    "i = 1 + (z.shape[0]-3)\n",
    "j = 1 + (z.shape[1]-3)\n",
    "c = stride_tricks.as_strided(z, shape=(i, j, n, n), strides=z.strides + z.strides)\n",
    "print (c)"
   ]
  },
  {
   "cell_type": "markdown",
   "metadata": {},
   "source": [
    "### 85.创建一个满足 Z[i,j] == Z[j,i]的子类"
   ]
  },
  {
   "cell_type": "code",
   "execution_count": 183,
   "metadata": {},
   "outputs": [
    {
     "name": "stdout",
     "output_type": "stream",
     "text": [
      "[[ 3 17 10  3  6]\n",
      " [17  2 12  9  3]\n",
      " [10 12  8 42 17]\n",
      " [ 3  9 42  9 17]\n",
      " [ 6  3 17 17  3]]\n"
     ]
    }
   ],
   "source": [
    "class Symetric(np.ndarray):\n",
    "    def __setitem__(self, index, value):\n",
    "        i, j = index\n",
    "        super(Symetric, self).__setitem__((i, j), value)\n",
    "        super(Symetric, self).__setitem__((j, i), value)\n",
    "\n",
    "def symetric(z):\n",
    "    return np.asarray(z+z.T - np.diag(z.diagonal())).view(Symetric)\n",
    "\n",
    "S = symetric(np.random.randint(0, 10, (5, 5)))\n",
    "S[2, 3] = 42\n",
    "print (S)"
   ]
  },
  {
   "cell_type": "markdown",
   "metadata": {},
   "source": [
    "### 86.考虑p个 nxn 矩阵和一组形状为(n,1)的向量，如何直接计算p个矩阵的乘积(n,1)？"
   ]
  },
  {
   "cell_type": "code",
   "execution_count": 184,
   "metadata": {},
   "outputs": [
    {
     "name": "stdout",
     "output_type": "stream",
     "text": [
      "[[200.]\n",
      " [200.]\n",
      " [200.]\n",
      " [200.]\n",
      " [200.]\n",
      " [200.]\n",
      " [200.]\n",
      " [200.]\n",
      " [200.]\n",
      " [200.]\n",
      " [200.]\n",
      " [200.]\n",
      " [200.]\n",
      " [200.]\n",
      " [200.]\n",
      " [200.]\n",
      " [200.]\n",
      " [200.]\n",
      " [200.]\n",
      " [200.]]\n"
     ]
    }
   ],
   "source": [
    "p, n = 10, 20\n",
    "M = np.ones((p,n,n))\n",
    "V = np.ones((p,n,1))\n",
    "S = np.tensordot(M, V, axes=[[0, 2], [0, 1]])\n",
    "print (S)"
   ]
  },
  {
   "cell_type": "markdown",
   "metadata": {},
   "source": [
    "### 87.对于一个16x16的数组，如何得到一个区域(block-sum)的和(区域大小为4x4)?"
   ]
  },
  {
   "cell_type": "code",
   "execution_count": 185,
   "metadata": {},
   "outputs": [
    {
     "name": "stdout",
     "output_type": "stream",
     "text": [
      "[[16. 16. 16. 16.]\n",
      " [16. 16. 16. 16.]\n",
      " [16. 16. 16. 16.]\n",
      " [16. 16. 16. 16.]]\n"
     ]
    }
   ],
   "source": [
    " Z = np.ones((16,16))\n",
    " k = 4\n",
    " S = np.add.reduceat(np.add.reduceat(Z, np.arange(0, Z.shape[0], k), axis=0),\n",
    "                                        np.arange(0, Z.shape[1], k), axis=1)\n",
    " print (S)"
   ]
  },
  {
   "cell_type": "markdown",
   "metadata": {},
   "source": [
    "### 88.如何利用numpy数组实现Game of Life?"
   ]
  },
  {
   "cell_type": "code",
   "execution_count": 186,
   "metadata": {},
   "outputs": [
    {
     "name": "stdout",
     "output_type": "stream",
     "text": [
      "[[0 0 0 ... 0 0 0]\n",
      " [0 0 0 ... 0 0 0]\n",
      " [0 0 0 ... 0 0 0]\n",
      " ...\n",
      " [0 0 0 ... 0 0 0]\n",
      " [0 0 0 ... 0 0 0]\n",
      " [0 0 0 ... 0 0 0]]\n"
     ]
    }
   ],
   "source": [
    " def iterate(Z):\n",
    "     # Count neighbours\n",
    "     N = (Z[0:-2,0:-2] + Z[0:-2,1:-1] + Z[0:-2,2:] +\n",
    "          Z[1:-1,0:-2]                + Z[1:-1,2:] +\n",
    "          Z[2:  ,0:-2] + Z[2:  ,1:-1] + Z[2:  ,2:])\n",
    "\n",
    "#     # Apply rules\n",
    "     birth = (N==3) & (Z[1:-1,1:-1]==0)\n",
    "     survive = ((N==2) | (N==3)) & (Z[1:-1,1:-1]==1)\n",
    "     Z[...] = 0\n",
    "     Z[1:-1,1:-1][birth | survive] = 1\n",
    "     return Z\n",
    "\n",
    " Z = np.random.randint(0,2,(50,50))\n",
    " for i in range(100): Z = iterate(Z)\n",
    " print (Z)"
   ]
  },
  {
   "cell_type": "markdown",
   "metadata": {},
   "source": [
    "### 89.如何找到一个数组的第n个最大值?"
   ]
  },
  {
   "cell_type": "code",
   "execution_count": 188,
   "metadata": {},
   "outputs": [
    {
     "name": "stdout",
     "output_type": "stream",
     "text": [
      "[997 998 999 996 995]\n"
     ]
    }
   ],
   "source": [
    "Z = np.arange(1000)\n",
    "#--- 打乱顺序 --------\n",
    "np.random.shuffle(Z)\n",
    "n = 5\n",
    "print (Z[np.argpartition(-Z, n)[:n]])"
   ]
  },
  {
   "cell_type": "markdown",
   "metadata": {},
   "source": [
    "### 90.给定任意个数向量，创建笛卡尔积(每一个元素的每一种组合)"
   ]
  },
  {
   "cell_type": "code",
   "execution_count": 189,
   "metadata": {},
   "outputs": [
    {
     "name": "stdout",
     "output_type": "stream",
     "text": [
      "[[1 4 6]\n",
      " [1 4 7]\n",
      " [1 5 6]\n",
      " [1 5 7]\n",
      " [2 4 6]\n",
      " [2 4 7]\n",
      " [2 5 6]\n",
      " [2 5 7]\n",
      " [3 4 6]\n",
      " [3 4 7]\n",
      " [3 5 6]\n",
      " [3 5 7]]\n"
     ]
    }
   ],
   "source": [
    " def cartesian(arrays):\n",
    "     arrays = [np.asarray(a) for a in arrays]\n",
    "     shape = (len(x) for x in arrays)\n",
    "\n",
    "     ix = np.indices(shape, dtype=int)\n",
    "     ix = ix.reshape(len(arrays), -1).T\n",
    "\n",
    "     for n, arr in enumerate(arrays):\n",
    "         ix[:, n] = arrays[n][ix[:, n]]\n",
    "\n",
    "     return ix\n",
    "\n",
    " print (cartesian(([1, 2, 3], [4, 5], [6, 7])))"
   ]
  },
  {
   "cell_type": "markdown",
   "metadata": {},
   "source": [
    "### 91.如何从一个正常数组创建记录数组(record array)? "
   ]
  },
  {
   "cell_type": "code",
   "execution_count": 190,
   "metadata": {},
   "outputs": [
    {
     "name": "stdout",
     "output_type": "stream",
     "text": [
      "[(b'Hello', 2.5, 3) (b'World', 3.6, 2)]\n"
     ]
    }
   ],
   "source": [
    " Z = np.array([(\"Hello\", 2.5, 3),\n",
    "               (\"World\", 3.6, 2)])\n",
    " R = np.core.records.fromarrays(Z.T, \n",
    "                                names='col1, col2, col3',\n",
    "                                formats = 'S8, f8, i8')\n",
    " print (R)"
   ]
  },
  {
   "cell_type": "markdown",
   "metadata": {},
   "source": [
    "### 92.考虑一个大向量Z, 用三种不同的方法计算它的立方"
   ]
  },
  {
   "cell_type": "code",
   "execution_count": 191,
   "metadata": {},
   "outputs": [
    {
     "ename": "ValueError",
     "evalue": "einstein sum subscripts string contains too many subscripts for operand 0",
     "output_type": "error",
     "traceback": [
      "\u001b[1;31m---------------------------------------------------------------------------\u001b[0m",
      "\u001b[1;31mValueError\u001b[0m                                Traceback (most recent call last)",
      "\u001b[1;32m<ipython-input-191-4684467f7884>\u001b[0m in \u001b[0;36m<module>\u001b[1;34m()\u001b[0m\n\u001b[0;32m      2\u001b[0m \u001b[0mnp\u001b[0m\u001b[1;33m.\u001b[0m\u001b[0mpower\u001b[0m\u001b[1;33m(\u001b[0m\u001b[0mx\u001b[0m\u001b[1;33m,\u001b[0m \u001b[1;36m3\u001b[0m\u001b[1;33m)\u001b[0m\u001b[1;33m\u001b[0m\u001b[0m\n\u001b[0;32m      3\u001b[0m \u001b[0mx\u001b[0m \u001b[1;33m*\u001b[0m \u001b[0mx\u001b[0m \u001b[1;33m*\u001b[0m \u001b[0mx\u001b[0m\u001b[1;33m\u001b[0m\u001b[0m\n\u001b[1;32m----> 4\u001b[1;33m \u001b[0mnp\u001b[0m\u001b[1;33m.\u001b[0m\u001b[0meinsum\u001b[0m\u001b[1;33m(\u001b[0m\u001b[1;34m'i, i, i->i'\u001b[0m\u001b[1;33m,\u001b[0m \u001b[0mx\u001b[0m\u001b[1;33m,\u001b[0m \u001b[0mx\u001b[0m\u001b[1;33m,\u001b[0m \u001b[0mx\u001b[0m\u001b[1;33m)\u001b[0m\u001b[1;33m\u001b[0m\u001b[0m\n\u001b[0m",
      "\u001b[1;32m~Users\\wd\\Anaconda3\\lib\\site-packages\\numpy\\core\\einsumfunc.py\u001b[0m in \u001b[0;36meinsum\u001b[1;34m(*operands, **kwargs)\u001b[0m\n\u001b[0;32m   1344\u001b[0m     \u001b[1;31m# If no optimization, run pure einsum\u001b[0m\u001b[1;33m\u001b[0m\u001b[1;33m\u001b[0m\u001b[0m\n\u001b[0;32m   1345\u001b[0m     \u001b[1;32mif\u001b[0m \u001b[0moptimize_arg\u001b[0m \u001b[1;32mis\u001b[0m \u001b[1;32mFalse\u001b[0m\u001b[1;33m:\u001b[0m\u001b[1;33m\u001b[0m\u001b[0m\n\u001b[1;32m-> 1346\u001b[1;33m         \u001b[1;32mreturn\u001b[0m \u001b[0mc_einsum\u001b[0m\u001b[1;33m(\u001b[0m\u001b[1;33m*\u001b[0m\u001b[0moperands\u001b[0m\u001b[1;33m,\u001b[0m \u001b[1;33m**\u001b[0m\u001b[0mkwargs\u001b[0m\u001b[1;33m)\u001b[0m\u001b[1;33m\u001b[0m\u001b[0m\n\u001b[0m\u001b[0;32m   1347\u001b[0m \u001b[1;33m\u001b[0m\u001b[0m\n\u001b[0;32m   1348\u001b[0m     \u001b[0mvalid_einsum_kwargs\u001b[0m \u001b[1;33m=\u001b[0m \u001b[1;33m[\u001b[0m\u001b[1;34m'out'\u001b[0m\u001b[1;33m,\u001b[0m \u001b[1;34m'dtype'\u001b[0m\u001b[1;33m,\u001b[0m \u001b[1;34m'order'\u001b[0m\u001b[1;33m,\u001b[0m \u001b[1;34m'casting'\u001b[0m\u001b[1;33m]\u001b[0m\u001b[1;33m\u001b[0m\u001b[0m\n",
      "\u001b[1;31mValueError\u001b[0m: einstein sum subscripts string contains too many subscripts for operand 0"
     ]
    }
   ],
   "source": [
    "x = np.random.rand()\n",
    "np.power(x, 3)\n",
    "x * x * x\n",
    "np.einsum('i, i, i->i', x, x, x)"
   ]
  },
  {
   "cell_type": "markdown",
   "metadata": {},
   "source": [
    "### 93.考虑两个形状分别为(8,3) 和(2,2)的数组A和B. 如何在数组A中找到满足包含B中元素的行？(不考虑B中每行元素顺序)？"
   ]
  },
  {
   "cell_type": "code",
   "execution_count": 193,
   "metadata": {},
   "outputs": [
    {
     "name": "stdout",
     "output_type": "stream",
     "text": [
      "[0 2 4]\n"
     ]
    }
   ],
   "source": [
    "A = np.random.randint(0,5,(8,3))\n",
    "B = np.random.randint(0,5,(2,2))\n",
    "\n",
    "C = (A[..., np.newaxis, np.newaxis] == B)\n",
    "rows = np.where(C.any((3,1)).all(1))[0]\n",
    "print (rows)"
   ]
  },
  {
   "cell_type": "markdown",
   "metadata": {},
   "source": [
    "### 94. 考虑一个10x3的矩阵，分解出有不全相同值的行 (如 [2,2,3]) "
   ]
  },
  {
   "cell_type": "code",
   "execution_count": 194,
   "metadata": {},
   "outputs": [
    {
     "name": "stdout",
     "output_type": "stream",
     "text": [
      "[[4 0 1]\n",
      " [2 3 2]\n",
      " [3 3 1]\n",
      " [2 3 0]\n",
      " [3 0 2]\n",
      " [4 2 1]\n",
      " [3 3 3]\n",
      " [4 1 0]\n",
      " [1 1 0]\n",
      " [3 1 2]]\n"
     ]
    },
    {
     "ename": "IndexError",
     "evalue": "boolean index did not match indexed array along dimension 0; dimension is 2 but corresponding boolean dimension is 10",
     "output_type": "error",
     "traceback": [
      "\u001b[1;31m---------------------------------------------------------------------------\u001b[0m",
      "\u001b[1;31mIndexError\u001b[0m                                Traceback (most recent call last)",
      "\u001b[1;32m<ipython-input-194-22b10ad8ad00>\u001b[0m in \u001b[0;36m<module>\u001b[1;34m()\u001b[0m\n\u001b[0;32m      2\u001b[0m \u001b[0mprint\u001b[0m \u001b[1;33m(\u001b[0m\u001b[0mz\u001b[0m\u001b[1;33m)\u001b[0m\u001b[1;33m\u001b[0m\u001b[0m\n\u001b[0;32m      3\u001b[0m \u001b[0mE\u001b[0m \u001b[1;33m=\u001b[0m \u001b[0mnp\u001b[0m\u001b[1;33m.\u001b[0m\u001b[0mall\u001b[0m\u001b[1;33m(\u001b[0m\u001b[0mz\u001b[0m\u001b[1;33m[\u001b[0m\u001b[1;33m:\u001b[0m\u001b[1;33m,\u001b[0m \u001b[1;36m1\u001b[0m\u001b[1;33m:\u001b[0m\u001b[1;33m]\u001b[0m \u001b[1;33m==\u001b[0m \u001b[0mz\u001b[0m\u001b[1;33m[\u001b[0m\u001b[1;33m:\u001b[0m\u001b[1;33m,\u001b[0m \u001b[1;33m:\u001b[0m\u001b[1;33m-\u001b[0m\u001b[1;36m1\u001b[0m\u001b[1;33m]\u001b[0m\u001b[1;33m,\u001b[0m \u001b[0maxis\u001b[0m\u001b[1;33m=\u001b[0m\u001b[1;36m1\u001b[0m\u001b[1;33m)\u001b[0m\u001b[1;33m\u001b[0m\u001b[0m\n\u001b[1;32m----> 4\u001b[1;33m \u001b[0mU\u001b[0m \u001b[1;33m=\u001b[0m \u001b[0mZ\u001b[0m\u001b[1;33m[\u001b[0m\u001b[1;33m~\u001b[0m\u001b[0mE\u001b[0m\u001b[1;33m]\u001b[0m\u001b[1;33m\u001b[0m\u001b[0m\n\u001b[0m\u001b[0;32m      5\u001b[0m \u001b[0mprint\u001b[0m \u001b[1;33m(\u001b[0m\u001b[0mU\u001b[0m\u001b[1;33m)\u001b[0m\u001b[1;33m\u001b[0m\u001b[0m\n",
      "\u001b[1;31mIndexError\u001b[0m: boolean index did not match indexed array along dimension 0; dimension is 2 but corresponding boolean dimension is 10"
     ]
    }
   ],
   "source": [
    "z = np.random.randint(0, 5, (10, 3))\n",
    "print (z)\n",
    "E = np.all(z[:, 1:] == z[:, :-1], axis=1)\n",
    "U = Z[~E]\n",
    "print (U)"
   ]
  },
  {
   "cell_type": "markdown",
   "metadata": {},
   "source": [
    "### 95.将一个整数向量转换为matrix binary的表现形式"
   ]
  },
  {
   "cell_type": "code",
   "execution_count": 195,
   "metadata": {},
   "outputs": [
    {
     "name": "stdout",
     "output_type": "stream",
     "text": [
      "[[[[0 0 0]\n",
      "   [0 0 0]\n",
      "   [0 0 0]\n",
      "   ...\n",
      "   [0 0 0]\n",
      "   [0 0 0]\n",
      "   [0 0 0]]\n",
      "\n",
      "  [[0 0 0]\n",
      "   [0 0 0]\n",
      "   [0 0 0]\n",
      "   ...\n",
      "   [0 0 0]\n",
      "   [0 0 0]\n",
      "   [0 0 0]]\n",
      "\n",
      "  [[0 0 0]\n",
      "   [0 0 0]\n",
      "   [0 0 0]\n",
      "   ...\n",
      "   [0 0 0]\n",
      "   [0 0 0]\n",
      "   [0 0 0]]\n",
      "\n",
      "  ...\n",
      "\n",
      "  [[0 0 0]\n",
      "   [0 0 0]\n",
      "   [0 0 0]\n",
      "   ...\n",
      "   [0 0 0]\n",
      "   [0 0 0]\n",
      "   [0 0 0]]\n",
      "\n",
      "  [[0 0 0]\n",
      "   [0 0 0]\n",
      "   [0 0 0]\n",
      "   ...\n",
      "   [0 0 0]\n",
      "   [0 0 0]\n",
      "   [0 0 0]]\n",
      "\n",
      "  [[0 0 0]\n",
      "   [0 1 1]\n",
      "   [0 1 1]\n",
      "   ...\n",
      "   [0 1 0]\n",
      "   [1 1 0]\n",
      "   [0 0 1]]]\n",
      "\n",
      "\n",
      " [[[0 0 0]\n",
      "   [0 0 0]\n",
      "   [0 0 0]\n",
      "   ...\n",
      "   [0 0 0]\n",
      "   [0 0 0]\n",
      "   [0 0 0]]\n",
      "\n",
      "  [[0 0 0]\n",
      "   [0 0 0]\n",
      "   [0 0 0]\n",
      "   ...\n",
      "   [0 0 0]\n",
      "   [0 0 0]\n",
      "   [0 0 0]]\n",
      "\n",
      "  [[0 0 0]\n",
      "   [0 0 0]\n",
      "   [0 0 0]\n",
      "   ...\n",
      "   [0 0 0]\n",
      "   [0 0 0]\n",
      "   [0 0 0]]\n",
      "\n",
      "  ...\n",
      "\n",
      "  [[0 0 0]\n",
      "   [0 0 0]\n",
      "   [0 0 0]\n",
      "   ...\n",
      "   [0 0 0]\n",
      "   [0 0 0]\n",
      "   [0 0 0]]\n",
      "\n",
      "  [[0 0 0]\n",
      "   [0 0 0]\n",
      "   [0 0 0]\n",
      "   ...\n",
      "   [0 0 0]\n",
      "   [0 0 0]\n",
      "   [0 0 0]]\n",
      "\n",
      "  [[0 0 1]\n",
      "   [0 1 0]\n",
      "   [1 0 0]\n",
      "   ...\n",
      "   [1 0 0]\n",
      "   [0 0 1]\n",
      "   [0 1 0]]]\n",
      "\n",
      "\n",
      " [[[0 0 0]\n",
      "   [0 0 0]\n",
      "   [0 0 0]\n",
      "   ...\n",
      "   [0 0 0]\n",
      "   [0 0 0]\n",
      "   [0 0 0]]\n",
      "\n",
      "  [[0 0 0]\n",
      "   [0 0 0]\n",
      "   [0 0 0]\n",
      "   ...\n",
      "   [0 0 0]\n",
      "   [0 0 0]\n",
      "   [0 0 0]]\n",
      "\n",
      "  [[0 0 0]\n",
      "   [0 0 0]\n",
      "   [0 0 0]\n",
      "   ...\n",
      "   [0 0 0]\n",
      "   [0 0 0]\n",
      "   [0 0 0]]\n",
      "\n",
      "  ...\n",
      "\n",
      "  [[0 0 0]\n",
      "   [0 0 0]\n",
      "   [0 0 0]\n",
      "   ...\n",
      "   [0 0 0]\n",
      "   [0 0 0]\n",
      "   [0 0 0]]\n",
      "\n",
      "  [[0 0 0]\n",
      "   [0 0 0]\n",
      "   [0 0 0]\n",
      "   ...\n",
      "   [0 0 0]\n",
      "   [0 0 0]\n",
      "   [0 0 0]]\n",
      "\n",
      "  [[0 1 1]\n",
      "   [1 0 0]\n",
      "   [0 0 1]\n",
      "   ...\n",
      "   [0 1 1]\n",
      "   [1 0 1]\n",
      "   [0 1 1]]]\n",
      "\n",
      "\n",
      " ...\n",
      "\n",
      "\n",
      " [[[0 0 0]\n",
      "   [0 0 0]\n",
      "   [0 0 0]\n",
      "   ...\n",
      "   [0 0 0]\n",
      "   [0 0 0]\n",
      "   [0 0 0]]\n",
      "\n",
      "  [[0 0 0]\n",
      "   [0 0 0]\n",
      "   [0 0 0]\n",
      "   ...\n",
      "   [0 0 0]\n",
      "   [0 0 0]\n",
      "   [0 0 0]]\n",
      "\n",
      "  [[0 0 0]\n",
      "   [0 0 0]\n",
      "   [0 0 0]\n",
      "   ...\n",
      "   [0 0 0]\n",
      "   [0 0 0]\n",
      "   [0 0 0]]\n",
      "\n",
      "  ...\n",
      "\n",
      "  [[0 0 0]\n",
      "   [0 0 0]\n",
      "   [0 0 0]\n",
      "   ...\n",
      "   [0 0 0]\n",
      "   [0 0 0]\n",
      "   [0 0 0]]\n",
      "\n",
      "  [[0 0 0]\n",
      "   [0 0 0]\n",
      "   [0 0 0]\n",
      "   ...\n",
      "   [0 0 0]\n",
      "   [0 0 0]\n",
      "   [0 0 0]]\n",
      "\n",
      "  [[1 0 0]\n",
      "   [0 1 1]\n",
      "   [1 0 1]\n",
      "   ...\n",
      "   [0 1 1]\n",
      "   [0 0 0]\n",
      "   [1 1 0]]]\n",
      "\n",
      "\n",
      " [[[0 0 0]\n",
      "   [0 0 0]\n",
      "   [0 0 0]\n",
      "   ...\n",
      "   [0 0 0]\n",
      "   [0 0 0]\n",
      "   [0 0 0]]\n",
      "\n",
      "  [[0 0 0]\n",
      "   [0 0 0]\n",
      "   [0 0 0]\n",
      "   ...\n",
      "   [0 0 0]\n",
      "   [0 0 0]\n",
      "   [0 0 0]]\n",
      "\n",
      "  [[0 0 0]\n",
      "   [0 0 0]\n",
      "   [0 0 0]\n",
      "   ...\n",
      "   [0 0 0]\n",
      "   [0 0 0]\n",
      "   [0 0 0]]\n",
      "\n",
      "  ...\n",
      "\n",
      "  [[0 0 0]\n",
      "   [0 0 0]\n",
      "   [0 0 0]\n",
      "   ...\n",
      "   [0 0 0]\n",
      "   [0 0 0]\n",
      "   [0 0 0]]\n",
      "\n",
      "  [[0 0 0]\n",
      "   [0 0 0]\n",
      "   [0 0 0]\n",
      "   ...\n",
      "   [0 0 0]\n",
      "   [0 0 0]\n",
      "   [0 0 0]]\n",
      "\n",
      "  [[1 0 1]\n",
      "   [0 0 0]\n",
      "   [0 1 0]\n",
      "   ...\n",
      "   [0 1 0]\n",
      "   [0 0 0]\n",
      "   [0 1 0]]]\n",
      "\n",
      "\n",
      " [[[0 0 0]\n",
      "   [0 0 0]\n",
      "   [0 0 0]\n",
      "   ...\n",
      "   [0 0 0]\n",
      "   [0 0 0]\n",
      "   [0 0 0]]\n",
      "\n",
      "  [[0 0 0]\n",
      "   [0 0 0]\n",
      "   [0 0 0]\n",
      "   ...\n",
      "   [0 0 0]\n",
      "   [0 0 0]\n",
      "   [0 0 0]]\n",
      "\n",
      "  [[0 0 0]\n",
      "   [0 0 0]\n",
      "   [0 0 0]\n",
      "   ...\n",
      "   [0 0 0]\n",
      "   [0 0 0]\n",
      "   [0 0 0]]\n",
      "\n",
      "  ...\n",
      "\n",
      "  [[0 0 0]\n",
      "   [0 0 0]\n",
      "   [0 0 0]\n",
      "   ...\n",
      "   [0 0 0]\n",
      "   [0 0 0]\n",
      "   [0 0 0]]\n",
      "\n",
      "  [[0 0 0]\n",
      "   [0 0 0]\n",
      "   [0 0 0]\n",
      "   ...\n",
      "   [0 0 0]\n",
      "   [0 0 0]\n",
      "   [0 0 0]]\n",
      "\n",
      "  [[1 1 0]\n",
      "   [1 1 1]\n",
      "   [1 1 1]\n",
      "   ...\n",
      "   [1 0 0]\n",
      "   [0 1 1]\n",
      "   [0 0 0]]]]\n"
     ]
    }
   ],
   "source": [
    "print (np.unpackbits(I[:, np.newaxis], axis=1))"
   ]
  },
  {
   "cell_type": "markdown",
   "metadata": {},
   "source": [
    "### 96.给定一个二维数组，如何提取出唯一的(unique)行?"
   ]
  },
  {
   "cell_type": "code",
   "execution_count": 196,
   "metadata": {},
   "outputs": [
    {
     "name": "stdout",
     "output_type": "stream",
     "text": [
      "[[0 0 0]\n",
      " [0 0 1]\n",
      " [0 1 0]\n",
      " [1 0 1]\n",
      " [1 1 0]]\n"
     ]
    }
   ],
   "source": [
    "Z = np.random.randint(0,2,(6,3))\n",
    "T = np.ascontiguousarray(Z).view(np.dtype((np.void, Z.dtype.itemsize * Z.shape[1])))\n",
    "_, idx = np.unique(T, return_index=True)\n",
    "uZ = Z[idx]\n",
    "print (uZ)"
   ]
  },
  {
   "cell_type": "markdown",
   "metadata": {},
   "source": [
    "### 97.考虑两个向量A和B，写出用einsum等式对应的inner, outer, sum, mul函数"
   ]
  },
  {
   "cell_type": "code",
   "execution_count": 197,
   "metadata": {},
   "outputs": [
    {
     "name": "stdout",
     "output_type": "stream",
     "text": [
      "sum\n",
      "5.675428551843291\n"
     ]
    }
   ],
   "source": [
    "A = np.random.uniform(0, 1, 10)\n",
    "B = np.random.uniform(0, 1, 10)\n",
    "print ('sum')\n",
    "print (np.einsum('i->', A))"
   ]
  },
  {
   "cell_type": "markdown",
   "metadata": {},
   "source": [
    "### 98.考虑一个由两个向量描述的路径(X,Y)，如何用等距样例(equidistant samples)对其进行采样(sample)? "
   ]
  },
  {
   "cell_type": "code",
   "execution_count": 198,
   "metadata": {
    "collapsed": true
   },
   "outputs": [],
   "source": [
    "phi = np.arange(0, 10*np.pi, 0.1)\n",
    "a = 1\n",
    "x = a*phi*np.cos(phi)\n",
    "y = a*phi*np.sin(phi)\n",
    "\n",
    "dr = (np.diff(x)**2 + np.diff(y)**2)**.5 # segment lengths\n",
    "r = np.zeros_like(x)\n",
    "r[1:] = np.cumsum(dr)                # integrate path\n",
    "r_int = np.linspace(0, r.max(), 200) # regular spaced path\n",
    "x_int = np.interp(r_int, r, x)       # integrate path\n",
    "y_int = np.interp(r_int, r, y)"
   ]
  },
  {
   "cell_type": "markdown",
   "metadata": {},
   "source": [
    "### 99.Given an integer n and a 2D array X, select from X the rows which can be interpreted as draws from a multinomial distribution with n degrees, i.e., the rows which only contain integers and which sum to n."
   ]
  },
  {
   "cell_type": "code",
   "execution_count": 199,
   "metadata": {},
   "outputs": [
    {
     "name": "stdout",
     "output_type": "stream",
     "text": [
      "[[2. 0. 1. 1.]]\n"
     ]
    }
   ],
   "source": [
    "X = np.asarray([[1.0, 0.0, 3.0, 8.0],\n",
    "                 [2.0, 0.0, 1.0, 1.0],\n",
    "                 [1.5, 2.5, 1.0, 0.0]])\n",
    "n = 4\n",
    "M = np.logical_and.reduce(np.mod(X, 1) == 0, axis=-1)\n",
    "M &= (X.sum(axis=-1) == n)\n",
    "print (X[M])"
   ]
  },
  {
   "cell_type": "markdown",
   "metadata": {},
   "source": [
    "### 100.对于一个一维数组X，计算它boostrapped之后的95%置信区间的平均值。"
   ]
  },
  {
   "cell_type": "code",
   "execution_count": 200,
   "metadata": {},
   "outputs": [
    {
     "name": "stdout",
     "output_type": "stream",
     "text": [
      "[0.05399473 0.41274363]\n"
     ]
    }
   ],
   "source": [
    "X = np.random.randn(100) # random 1D array\n",
    "N = 1000 # number of bootstrap samples\n",
    "idx = np.random.randint(0, X.size, (N, X.size))\n",
    "means = X[idx].mean(axis=1)\n",
    "confint = np.percentile(means, [2.5, 97.5])\n",
    "print (confint)"
   ]
  }
 ],
 "metadata": {
  "kernelspec": {
   "display_name": "Python 3",
   "language": "python",
   "name": "python3"
  },
  "language_info": {
   "codemirror_mode": {
    "name": "ipython",
    "version": 3
   },
   "file_extension": ".py",
   "mimetype": "text/x-python",
   "name": "python",
   "nbconvert_exporter": "python",
   "pygments_lexer": "ipython3",
   "version": "3.6.2"
  }
 },
 "nbformat": 4,
 "nbformat_minor": 2
}
