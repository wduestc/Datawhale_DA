{
 "cells": [
  {
   "cell_type": "code",
   "execution_count": 1,
   "metadata": {
    "collapsed": true
   },
   "outputs": [],
   "source": [
    "import numpy as np\n",
    "import pandas as pd\n",
    "import warnings\n",
    "warnings.filterwarnings('ignore')"
   ]
  },
  {
   "cell_type": "code",
   "execution_count": 2,
   "metadata": {},
   "outputs": [
    {
     "data": {
      "text/html": [
       "<div>\n",
       "<style>\n",
       "    .dataframe thead tr:only-child th {\n",
       "        text-align: right;\n",
       "    }\n",
       "\n",
       "    .dataframe thead th {\n",
       "        text-align: left;\n",
       "    }\n",
       "\n",
       "    .dataframe tbody tr th {\n",
       "        vertical-align: top;\n",
       "    }\n",
       "</style>\n",
       "<table border=\"1\" class=\"dataframe\">\n",
       "  <thead>\n",
       "    <tr style=\"text-align: right;\">\n",
       "      <th></th>\n",
       "      <th>history_fail_fee</th>\n",
       "      <th>trans_fail_top_count_enum_last_1_month</th>\n",
       "      <th>loans_score</th>\n",
       "      <th>apply_score</th>\n",
       "      <th>latest_one_month_fail</th>\n",
       "      <th>loans_overdue_count</th>\n",
       "      <th>max_cumulative_consume_later_1_month</th>\n",
       "      <th>trans_amount_3_month</th>\n",
       "      <th>repayment_capability</th>\n",
       "      <th>latest_query_day</th>\n",
       "      <th>...</th>\n",
       "      <th>abs</th>\n",
       "      <th>consfin_avg_limit</th>\n",
       "      <th>trans_amount_increase_rate_lately</th>\n",
       "      <th>avg_price_last_12_month</th>\n",
       "      <th>loans_avg_limit</th>\n",
       "      <th>historical_trans_day</th>\n",
       "      <th>trans_day_last_12_month</th>\n",
       "      <th>pawns_auctions_trusts_consume_last_6_month</th>\n",
       "      <th>history_suc_fee</th>\n",
       "      <th>status</th>\n",
       "    </tr>\n",
       "  </thead>\n",
       "  <tbody>\n",
       "    <tr>\n",
       "      <th>0</th>\n",
       "      <td>7.0</td>\n",
       "      <td>1.0</td>\n",
       "      <td>552.0</td>\n",
       "      <td>583.0</td>\n",
       "      <td>0.0</td>\n",
       "      <td>2.0</td>\n",
       "      <td>2170</td>\n",
       "      <td>34030</td>\n",
       "      <td>19890</td>\n",
       "      <td>12.0</td>\n",
       "      <td>...</td>\n",
       "      <td>3920</td>\n",
       "      <td>1200.0</td>\n",
       "      <td>0.90</td>\n",
       "      <td>1020</td>\n",
       "      <td>1688.0</td>\n",
       "      <td>151.0</td>\n",
       "      <td>85.0</td>\n",
       "      <td>18040</td>\n",
       "      <td>37.0</td>\n",
       "      <td>1</td>\n",
       "    </tr>\n",
       "    <tr>\n",
       "      <th>1</th>\n",
       "      <td>4.0</td>\n",
       "      <td>0.0</td>\n",
       "      <td>635.0</td>\n",
       "      <td>653.0</td>\n",
       "      <td>1.0</td>\n",
       "      <td>0.0</td>\n",
       "      <td>2100</td>\n",
       "      <td>10590</td>\n",
       "      <td>16970</td>\n",
       "      <td>4.0</td>\n",
       "      <td>...</td>\n",
       "      <td>6950</td>\n",
       "      <td>9360.0</td>\n",
       "      <td>1.28</td>\n",
       "      <td>1210</td>\n",
       "      <td>1758.0</td>\n",
       "      <td>224.0</td>\n",
       "      <td>84.0</td>\n",
       "      <td>15680</td>\n",
       "      <td>49.0</td>\n",
       "      <td>0</td>\n",
       "    </tr>\n",
       "    <tr>\n",
       "      <th>2</th>\n",
       "      <td>2.0</td>\n",
       "      <td>3.0</td>\n",
       "      <td>633.0</td>\n",
       "      <td>654.0</td>\n",
       "      <td>1.0</td>\n",
       "      <td>0.0</td>\n",
       "      <td>0</td>\n",
       "      <td>5710</td>\n",
       "      <td>9710</td>\n",
       "      <td>2.0</td>\n",
       "      <td>...</td>\n",
       "      <td>840</td>\n",
       "      <td>4200.0</td>\n",
       "      <td>1.00</td>\n",
       "      <td>570</td>\n",
       "      <td>1250.0</td>\n",
       "      <td>31.0</td>\n",
       "      <td>95.0</td>\n",
       "      <td>0</td>\n",
       "      <td>2.0</td>\n",
       "      <td>1</td>\n",
       "    </tr>\n",
       "    <tr>\n",
       "      <th>3</th>\n",
       "      <td>26.0</td>\n",
       "      <td>1.0</td>\n",
       "      <td>542.0</td>\n",
       "      <td>595.0</td>\n",
       "      <td>0.0</td>\n",
       "      <td>4.0</td>\n",
       "      <td>8140</td>\n",
       "      <td>91690</td>\n",
       "      <td>6210</td>\n",
       "      <td>2.0</td>\n",
       "      <td>...</td>\n",
       "      <td>46850</td>\n",
       "      <td>12180.0</td>\n",
       "      <td>0.13</td>\n",
       "      <td>1290</td>\n",
       "      <td>1541.0</td>\n",
       "      <td>360.0</td>\n",
       "      <td>82.0</td>\n",
       "      <td>27970</td>\n",
       "      <td>91.0</td>\n",
       "      <td>0</td>\n",
       "    </tr>\n",
       "    <tr>\n",
       "      <th>4</th>\n",
       "      <td>25.0</td>\n",
       "      <td>3.0</td>\n",
       "      <td>479.0</td>\n",
       "      <td>541.0</td>\n",
       "      <td>0.0</td>\n",
       "      <td>6.0</td>\n",
       "      <td>1000</td>\n",
       "      <td>9770</td>\n",
       "      <td>11150</td>\n",
       "      <td>22.0</td>\n",
       "      <td>...</td>\n",
       "      <td>760</td>\n",
       "      <td>8250.0</td>\n",
       "      <td>0.46</td>\n",
       "      <td>1110</td>\n",
       "      <td>1630.0</td>\n",
       "      <td>63.0</td>\n",
       "      <td>88.0</td>\n",
       "      <td>6410</td>\n",
       "      <td>36.0</td>\n",
       "      <td>1</td>\n",
       "    </tr>\n",
       "  </tbody>\n",
       "</table>\n",
       "<p>5 rows × 21 columns</p>\n",
       "</div>"
      ],
      "text/plain": [
       "   history_fail_fee  trans_fail_top_count_enum_last_1_month  loans_score  \\\n",
       "0               7.0                                     1.0        552.0   \n",
       "1               4.0                                     0.0        635.0   \n",
       "2               2.0                                     3.0        633.0   \n",
       "3              26.0                                     1.0        542.0   \n",
       "4              25.0                                     3.0        479.0   \n",
       "\n",
       "   apply_score  latest_one_month_fail  loans_overdue_count  \\\n",
       "0        583.0                    0.0                  2.0   \n",
       "1        653.0                    1.0                  0.0   \n",
       "2        654.0                    1.0                  0.0   \n",
       "3        595.0                    0.0                  4.0   \n",
       "4        541.0                    0.0                  6.0   \n",
       "\n",
       "   max_cumulative_consume_later_1_month  trans_amount_3_month  \\\n",
       "0                                  2170                 34030   \n",
       "1                                  2100                 10590   \n",
       "2                                     0                  5710   \n",
       "3                                  8140                 91690   \n",
       "4                                  1000                  9770   \n",
       "\n",
       "   repayment_capability  latest_query_day   ...      abs  consfin_avg_limit  \\\n",
       "0                 19890              12.0   ...     3920             1200.0   \n",
       "1                 16970               4.0   ...     6950             9360.0   \n",
       "2                  9710               2.0   ...      840             4200.0   \n",
       "3                  6210               2.0   ...    46850            12180.0   \n",
       "4                 11150              22.0   ...      760             8250.0   \n",
       "\n",
       "   trans_amount_increase_rate_lately  avg_price_last_12_month  \\\n",
       "0                               0.90                     1020   \n",
       "1                               1.28                     1210   \n",
       "2                               1.00                      570   \n",
       "3                               0.13                     1290   \n",
       "4                               0.46                     1110   \n",
       "\n",
       "   loans_avg_limit  historical_trans_day  trans_day_last_12_month  \\\n",
       "0           1688.0                 151.0                     85.0   \n",
       "1           1758.0                 224.0                     84.0   \n",
       "2           1250.0                  31.0                     95.0   \n",
       "3           1541.0                 360.0                     82.0   \n",
       "4           1630.0                  63.0                     88.0   \n",
       "\n",
       "   pawns_auctions_trusts_consume_last_6_month  history_suc_fee  status  \n",
       "0                                       18040             37.0       1  \n",
       "1                                       15680             49.0       0  \n",
       "2                                           0              2.0       1  \n",
       "3                                       27970             91.0       0  \n",
       "4                                        6410             36.0       1  \n",
       "\n",
       "[5 rows x 21 columns]"
      ]
     },
     "execution_count": 2,
     "metadata": {},
     "output_type": "execute_result"
    }
   ],
   "source": [
    "df = pd.read_csv('task2.csv', encoding='gb18030')\n",
    "df.head()"
   ]
  },
  {
   "cell_type": "code",
   "execution_count": 3,
   "metadata": {
    "collapsed": true
   },
   "outputs": [],
   "source": [
    "y = df['status']\n",
    "X = df.drop('status', axis=1)"
   ]
  },
  {
   "cell_type": "code",
   "execution_count": 4,
   "metadata": {
    "collapsed": true
   },
   "outputs": [],
   "source": [
    "from sklearn.preprocessing import StandardScaler\n",
    "X = StandardScaler().fit_transform(X)"
   ]
  },
  {
   "cell_type": "code",
   "execution_count": 5,
   "metadata": {
    "collapsed": true
   },
   "outputs": [],
   "source": [
    "# 进行37分\n",
    "from sklearn.model_selection import train_test_split\n",
    "Xtrain, Xtest, Ytrain, Ytest = train_test_split(X, y, test_size=0.3, random_state=2018)"
   ]
  },
  {
   "cell_type": "code",
   "execution_count": 7,
   "metadata": {},
   "outputs": [
    {
     "name": "stdout",
     "output_type": "stream",
     "text": [
      "准确率:0.7784,精确率:0.6585,召回率:0.3121,f1-score:0.4235,auc:0.6275\n"
     ]
    }
   ],
   "source": [
    "# 先用逻辑回归分类\n",
    "from sklearn.linear_model import LogisticRegression as LR\n",
    "lr = LR().fit(Xtrain, Ytrain)\n",
    "from sklearn import metrics\n",
    "Ytest_pred = lr.predict(Xtest)\n",
    "acc = metrics.accuracy_score(Ytest,Ytest_pred)\n",
    "precision = metrics.precision_score(Ytest,Ytest_pred)\n",
    "recall = metrics.recall_score(Ytest,Ytest_pred)\n",
    "f1 = metrics.f1_score(Ytest,Ytest_pred)\n",
    "auc= metrics.roc_auc_score(Ytest,Ytest_pred)\n",
    "print('准确率:{:.4f},精确率:{:.4f},召回率:{:.4f},f1-score:{:.4f},auc:{:.4f}'.format(acc,precision,recall,f1,auc))"
   ]
  },
  {
   "cell_type": "code",
   "execution_count": 8,
   "metadata": {},
   "outputs": [
    {
     "data": {
      "text/plain": [
       "0.7792012057272042"
      ]
     },
     "execution_count": 8,
     "metadata": {},
     "output_type": "execute_result"
    }
   ],
   "source": [
    "# 使用随机森林树\n",
    "from sklearn.ensemble import RandomForestClassifier\n",
    "rfc = RandomForestClassifier(n_estimators=500, n_jobs=-1)\n",
    "rfc.fit(Xtrain, Ytrain)\n",
    "rfc.score(Xtest, Ytest)"
   ]
  },
  {
   "cell_type": "code",
   "execution_count": 9,
   "metadata": {},
   "outputs": [
    {
     "name": "stdout",
     "output_type": "stream",
     "text": [
      "准确率:0.7792,精确率:0.6480,召回率:0.3353,f1-score:0.4419,auc:0.6355\n"
     ]
    }
   ],
   "source": [
    "from sklearn import metrics\n",
    "Ytest_pred = rfc.predict(Xtest)\n",
    "acc = metrics.accuracy_score(Ytest,Ytest_pred)\n",
    "precision = metrics.precision_score(Ytest,Ytest_pred)\n",
    "recall = metrics.recall_score(Ytest,Ytest_pred)\n",
    "f1 = metrics.f1_score(Ytest,Ytest_pred)\n",
    "auc= metrics.roc_auc_score(Ytest,Ytest_pred)\n",
    "print('准确率:{:.4f},精确率:{:.4f},召回率:{:.4f},f1-score:{:.4f},auc:{:.4f}'.format(acc,precision,recall,f1,auc))"
   ]
  },
  {
   "cell_type": "code",
   "execution_count": 12,
   "metadata": {},
   "outputs": [
    {
     "data": {
      "text/plain": [
       "0.7784476262245666"
      ]
     },
     "execution_count": 12,
     "metadata": {},
     "output_type": "execute_result"
    }
   ],
   "source": [
    "# 采用xgboost\n",
    "from xgboost import XGBClassifier as XGBC\n",
    "clf = XGBC().fit(Xtrain, Ytrain)\n",
    "clf.score(Xtest, Ytest)"
   ]
  },
  {
   "cell_type": "code",
   "execution_count": 13,
   "metadata": {},
   "outputs": [
    {
     "name": "stdout",
     "output_type": "stream",
     "text": [
      "准确率:0.7784,精确率:0.6354,召回率:0.3526,f1-score:0.4535,auc:0.6406\n"
     ]
    }
   ],
   "source": [
    "from sklearn import metrics\n",
    "Ytest_pred = clf.predict(Xtest)\n",
    "acc = metrics.accuracy_score(Ytest,Ytest_pred)\n",
    "precision = metrics.precision_score(Ytest,Ytest_pred)\n",
    "recall = metrics.recall_score(Ytest,Ytest_pred)\n",
    "f1 = metrics.f1_score(Ytest,Ytest_pred)\n",
    "auc= metrics.roc_auc_score(Ytest,Ytest_pred)\n",
    "print('准确率:{:.4f},精确率:{:.4f},召回率:{:.4f},f1-score:{:.4f},auc:{:.4f}'.format(acc,precision,recall,f1,auc))"
   ]
  }
 ],
 "metadata": {
  "kernelspec": {
   "display_name": "Python 3",
   "language": "python",
   "name": "python3"
  },
  "language_info": {
   "codemirror_mode": {
    "name": "ipython",
    "version": 3
   },
   "file_extension": ".py",
   "mimetype": "text/x-python",
   "name": "python",
   "nbconvert_exporter": "python",
   "pygments_lexer": "ipython3",
   "version": "3.6.2"
  }
 },
 "nbformat": 4,
 "nbformat_minor": 2
}
